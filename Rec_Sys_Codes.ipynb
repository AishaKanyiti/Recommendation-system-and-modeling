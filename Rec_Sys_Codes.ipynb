{
  "cells": [
    {
      "cell_type": "code",
      "execution_count": 1,
      "id": "3f6a6943-dda5-41eb-bb3d-e56e71ccfaf1",
      "metadata": {
        "id": "3f6a6943-dda5-41eb-bb3d-e56e71ccfaf1"
      },
      "outputs": [],
      "source": [
        "import pandas as pd\n",
        "import polars as pl\n",
        "import numpy as np\n",
        "from sklearn.model_selection import train_test_split\n",
        "from sklearn.preprocessing import StandardScaler, LabelEncoder\n",
        "from sklearn.ensemble import RandomForestClassifier, IsolationForest\n",
        "from sklearn.metrics import classification_report, precision_recall_curve, roc_auc_score\n",
        "import matplotlib.pyplot as plt\n",
        "import matplotlib.dates as mdates\n",
        "import seaborn as sns\n",
        "from datetime import datetime\n",
        "import warnings\n",
        "warnings.filterwarnings('ignore')"
      ]
    },
    {
      "cell_type": "code",
      "execution_count": 2,
      "id": "ed9b1251-3e67-4896-aad0-4be1b53ecb08",
      "metadata": {
        "colab": {
          "base_uri": "https://localhost:8080/",
          "height": 551
        },
        "id": "ed9b1251-3e67-4896-aad0-4be1b53ecb08",
        "outputId": "96f76323-7590-4ebc-b7e2-fc2501f8964d"
      },
      "outputs": [
        {
          "output_type": "display_data",
          "data": {
            "text/plain": [
              "<IPython.core.display.HTML object>"
            ],
            "text/html": [
              "\n",
              "     <input type=\"file\" id=\"files-6e792162-5d36-4dfa-9e5f-0ecfd4d47706\" name=\"files[]\" multiple disabled\n",
              "        style=\"border:none\" />\n",
              "     <output id=\"result-6e792162-5d36-4dfa-9e5f-0ecfd4d47706\">\n",
              "      Upload widget is only available when the cell has been executed in the\n",
              "      current browser session. Please rerun this cell to enable.\n",
              "      </output>\n",
              "      <script>// Copyright 2017 Google LLC\n",
              "//\n",
              "// Licensed under the Apache License, Version 2.0 (the \"License\");\n",
              "// you may not use this file except in compliance with the License.\n",
              "// You may obtain a copy of the License at\n",
              "//\n",
              "//      http://www.apache.org/licenses/LICENSE-2.0\n",
              "//\n",
              "// Unless required by applicable law or agreed to in writing, software\n",
              "// distributed under the License is distributed on an \"AS IS\" BASIS,\n",
              "// WITHOUT WARRANTIES OR CONDITIONS OF ANY KIND, either express or implied.\n",
              "// See the License for the specific language governing permissions and\n",
              "// limitations under the License.\n",
              "\n",
              "/**\n",
              " * @fileoverview Helpers for google.colab Python module.\n",
              " */\n",
              "(function(scope) {\n",
              "function span(text, styleAttributes = {}) {\n",
              "  const element = document.createElement('span');\n",
              "  element.textContent = text;\n",
              "  for (const key of Object.keys(styleAttributes)) {\n",
              "    element.style[key] = styleAttributes[key];\n",
              "  }\n",
              "  return element;\n",
              "}\n",
              "\n",
              "// Max number of bytes which will be uploaded at a time.\n",
              "const MAX_PAYLOAD_SIZE = 100 * 1024;\n",
              "\n",
              "function _uploadFiles(inputId, outputId) {\n",
              "  const steps = uploadFilesStep(inputId, outputId);\n",
              "  const outputElement = document.getElementById(outputId);\n",
              "  // Cache steps on the outputElement to make it available for the next call\n",
              "  // to uploadFilesContinue from Python.\n",
              "  outputElement.steps = steps;\n",
              "\n",
              "  return _uploadFilesContinue(outputId);\n",
              "}\n",
              "\n",
              "// This is roughly an async generator (not supported in the browser yet),\n",
              "// where there are multiple asynchronous steps and the Python side is going\n",
              "// to poll for completion of each step.\n",
              "// This uses a Promise to block the python side on completion of each step,\n",
              "// then passes the result of the previous step as the input to the next step.\n",
              "function _uploadFilesContinue(outputId) {\n",
              "  const outputElement = document.getElementById(outputId);\n",
              "  const steps = outputElement.steps;\n",
              "\n",
              "  const next = steps.next(outputElement.lastPromiseValue);\n",
              "  return Promise.resolve(next.value.promise).then((value) => {\n",
              "    // Cache the last promise value to make it available to the next\n",
              "    // step of the generator.\n",
              "    outputElement.lastPromiseValue = value;\n",
              "    return next.value.response;\n",
              "  });\n",
              "}\n",
              "\n",
              "/**\n",
              " * Generator function which is called between each async step of the upload\n",
              " * process.\n",
              " * @param {string} inputId Element ID of the input file picker element.\n",
              " * @param {string} outputId Element ID of the output display.\n",
              " * @return {!Iterable<!Object>} Iterable of next steps.\n",
              " */\n",
              "function* uploadFilesStep(inputId, outputId) {\n",
              "  const inputElement = document.getElementById(inputId);\n",
              "  inputElement.disabled = false;\n",
              "\n",
              "  const outputElement = document.getElementById(outputId);\n",
              "  outputElement.innerHTML = '';\n",
              "\n",
              "  const pickedPromise = new Promise((resolve) => {\n",
              "    inputElement.addEventListener('change', (e) => {\n",
              "      resolve(e.target.files);\n",
              "    });\n",
              "  });\n",
              "\n",
              "  const cancel = document.createElement('button');\n",
              "  inputElement.parentElement.appendChild(cancel);\n",
              "  cancel.textContent = 'Cancel upload';\n",
              "  const cancelPromise = new Promise((resolve) => {\n",
              "    cancel.onclick = () => {\n",
              "      resolve(null);\n",
              "    };\n",
              "  });\n",
              "\n",
              "  // Wait for the user to pick the files.\n",
              "  const files = yield {\n",
              "    promise: Promise.race([pickedPromise, cancelPromise]),\n",
              "    response: {\n",
              "      action: 'starting',\n",
              "    }\n",
              "  };\n",
              "\n",
              "  cancel.remove();\n",
              "\n",
              "  // Disable the input element since further picks are not allowed.\n",
              "  inputElement.disabled = true;\n",
              "\n",
              "  if (!files) {\n",
              "    return {\n",
              "      response: {\n",
              "        action: 'complete',\n",
              "      }\n",
              "    };\n",
              "  }\n",
              "\n",
              "  for (const file of files) {\n",
              "    const li = document.createElement('li');\n",
              "    li.append(span(file.name, {fontWeight: 'bold'}));\n",
              "    li.append(span(\n",
              "        `(${file.type || 'n/a'}) - ${file.size} bytes, ` +\n",
              "        `last modified: ${\n",
              "            file.lastModifiedDate ? file.lastModifiedDate.toLocaleDateString() :\n",
              "                                    'n/a'} - `));\n",
              "    const percent = span('0% done');\n",
              "    li.appendChild(percent);\n",
              "\n",
              "    outputElement.appendChild(li);\n",
              "\n",
              "    const fileDataPromise = new Promise((resolve) => {\n",
              "      const reader = new FileReader();\n",
              "      reader.onload = (e) => {\n",
              "        resolve(e.target.result);\n",
              "      };\n",
              "      reader.readAsArrayBuffer(file);\n",
              "    });\n",
              "    // Wait for the data to be ready.\n",
              "    let fileData = yield {\n",
              "      promise: fileDataPromise,\n",
              "      response: {\n",
              "        action: 'continue',\n",
              "      }\n",
              "    };\n",
              "\n",
              "    // Use a chunked sending to avoid message size limits. See b/62115660.\n",
              "    let position = 0;\n",
              "    do {\n",
              "      const length = Math.min(fileData.byteLength - position, MAX_PAYLOAD_SIZE);\n",
              "      const chunk = new Uint8Array(fileData, position, length);\n",
              "      position += length;\n",
              "\n",
              "      const base64 = btoa(String.fromCharCode.apply(null, chunk));\n",
              "      yield {\n",
              "        response: {\n",
              "          action: 'append',\n",
              "          file: file.name,\n",
              "          data: base64,\n",
              "        },\n",
              "      };\n",
              "\n",
              "      let percentDone = fileData.byteLength === 0 ?\n",
              "          100 :\n",
              "          Math.round((position / fileData.byteLength) * 100);\n",
              "      percent.textContent = `${percentDone}% done`;\n",
              "\n",
              "    } while (position < fileData.byteLength);\n",
              "  }\n",
              "\n",
              "  // All done.\n",
              "  yield {\n",
              "    response: {\n",
              "      action: 'complete',\n",
              "    }\n",
              "  };\n",
              "}\n",
              "\n",
              "scope.google = scope.google || {};\n",
              "scope.google.colab = scope.google.colab || {};\n",
              "scope.google.colab._files = {\n",
              "  _uploadFiles,\n",
              "  _uploadFilesContinue,\n",
              "};\n",
              "})(self);\n",
              "</script> "
            ]
          },
          "metadata": {}
        },
        {
          "output_type": "stream",
          "name": "stdout",
          "text": [
            "Saving category_tree(in).csv to category_tree(in).csv\n",
            "Saving events(in).csv to events(in).csv\n",
            "Saving item_properties_part1.1.csv to item_properties_part1.1.csv\n",
            "\n",
            "📁 Loading data...\n"
          ]
        },
        {
          "output_type": "error",
          "ename": "FileNotFoundError",
          "evalue": "No such file or directory (os error 2): item_properties_part2.csv",
          "traceback": [
            "\u001b[0;31m---------------------------------------------------------------------------\u001b[0m",
            "\u001b[0;31mFileNotFoundError\u001b[0m                         Traceback (most recent call last)",
            "\u001b[0;32m/tmp/ipython-input-2718233005.py\u001b[0m in \u001b[0;36m<cell line: 0>\u001b[0;34m()\u001b[0m\n\u001b[1;32m     10\u001b[0m \u001b[0mevents\u001b[0m \u001b[0;34m=\u001b[0m \u001b[0mpl\u001b[0m\u001b[0;34m.\u001b[0m\u001b[0mread_csv\u001b[0m\u001b[0;34m(\u001b[0m\u001b[0;34m\"events(in).csv\"\u001b[0m\u001b[0;34m)\u001b[0m\u001b[0;34m.\u001b[0m\u001b[0mdrop\u001b[0m\u001b[0;34m(\u001b[0m\u001b[0;34m\"transactionid\"\u001b[0m\u001b[0;34m)\u001b[0m\u001b[0;34m.\u001b[0m\u001b[0munique\u001b[0m\u001b[0;34m(\u001b[0m\u001b[0;34m)\u001b[0m\u001b[0;34m\u001b[0m\u001b[0;34m\u001b[0m\u001b[0m\n\u001b[1;32m     11\u001b[0m \u001b[0mprops1\u001b[0m \u001b[0;34m=\u001b[0m \u001b[0mpl\u001b[0m\u001b[0;34m.\u001b[0m\u001b[0mread_csv\u001b[0m\u001b[0;34m(\u001b[0m\u001b[0;34m\"item_properties_part1.1.csv\"\u001b[0m\u001b[0;34m)\u001b[0m\u001b[0;34m\u001b[0m\u001b[0;34m\u001b[0m\u001b[0m\n\u001b[0;32m---> 12\u001b[0;31m \u001b[0mprops2\u001b[0m \u001b[0;34m=\u001b[0m \u001b[0mpl\u001b[0m\u001b[0;34m.\u001b[0m\u001b[0mread_csv\u001b[0m\u001b[0;34m(\u001b[0m\u001b[0;34m\"item_properties_part2.csv\"\u001b[0m\u001b[0;34m)\u001b[0m\u001b[0;34m\u001b[0m\u001b[0;34m\u001b[0m\u001b[0m\n\u001b[0m\u001b[1;32m     13\u001b[0m \u001b[0mcategories\u001b[0m \u001b[0;34m=\u001b[0m \u001b[0mpl\u001b[0m\u001b[0;34m.\u001b[0m\u001b[0mread_csv\u001b[0m\u001b[0;34m(\u001b[0m\u001b[0;34m\"category_tree(in).csv\"\u001b[0m\u001b[0;34m)\u001b[0m\u001b[0;34m.\u001b[0m\u001b[0munique\u001b[0m\u001b[0;34m(\u001b[0m\u001b[0;34m)\u001b[0m\u001b[0;34m\u001b[0m\u001b[0;34m\u001b[0m\u001b[0m\n\u001b[1;32m     14\u001b[0m \u001b[0;34m\u001b[0m\u001b[0m\n",
            "\u001b[0;32m/usr/local/lib/python3.12/dist-packages/polars/_utils/deprecation.py\u001b[0m in \u001b[0;36mwrapper\u001b[0;34m(*args, **kwargs)\u001b[0m\n\u001b[1;32m    112\u001b[0m                 \u001b[0mold_name\u001b[0m\u001b[0;34m,\u001b[0m \u001b[0mnew_name\u001b[0m\u001b[0;34m,\u001b[0m \u001b[0mkwargs\u001b[0m\u001b[0;34m,\u001b[0m \u001b[0mfunction\u001b[0m\u001b[0;34m.\u001b[0m\u001b[0m__qualname__\u001b[0m\u001b[0;34m,\u001b[0m \u001b[0mversion\u001b[0m\u001b[0;34m\u001b[0m\u001b[0;34m\u001b[0m\u001b[0m\n\u001b[1;32m    113\u001b[0m             )\n\u001b[0;32m--> 114\u001b[0;31m             \u001b[0;32mreturn\u001b[0m \u001b[0mfunction\u001b[0m\u001b[0;34m(\u001b[0m\u001b[0;34m*\u001b[0m\u001b[0margs\u001b[0m\u001b[0;34m,\u001b[0m \u001b[0;34m**\u001b[0m\u001b[0mkwargs\u001b[0m\u001b[0;34m)\u001b[0m\u001b[0;34m\u001b[0m\u001b[0;34m\u001b[0m\u001b[0m\n\u001b[0m\u001b[1;32m    115\u001b[0m \u001b[0;34m\u001b[0m\u001b[0m\n\u001b[1;32m    116\u001b[0m         \u001b[0mwrapper\u001b[0m\u001b[0;34m.\u001b[0m\u001b[0m__signature__\u001b[0m \u001b[0;34m=\u001b[0m \u001b[0minspect\u001b[0m\u001b[0;34m.\u001b[0m\u001b[0msignature\u001b[0m\u001b[0;34m(\u001b[0m\u001b[0mfunction\u001b[0m\u001b[0;34m)\u001b[0m  \u001b[0;31m# type: ignore[attr-defined]\u001b[0m\u001b[0;34m\u001b[0m\u001b[0;34m\u001b[0m\u001b[0m\n",
            "\u001b[0;32m/usr/local/lib/python3.12/dist-packages/polars/_utils/deprecation.py\u001b[0m in \u001b[0;36mwrapper\u001b[0;34m(*args, **kwargs)\u001b[0m\n\u001b[1;32m    112\u001b[0m                 \u001b[0mold_name\u001b[0m\u001b[0;34m,\u001b[0m \u001b[0mnew_name\u001b[0m\u001b[0;34m,\u001b[0m \u001b[0mkwargs\u001b[0m\u001b[0;34m,\u001b[0m \u001b[0mfunction\u001b[0m\u001b[0;34m.\u001b[0m\u001b[0m__qualname__\u001b[0m\u001b[0;34m,\u001b[0m \u001b[0mversion\u001b[0m\u001b[0;34m\u001b[0m\u001b[0;34m\u001b[0m\u001b[0m\n\u001b[1;32m    113\u001b[0m             )\n\u001b[0;32m--> 114\u001b[0;31m             \u001b[0;32mreturn\u001b[0m \u001b[0mfunction\u001b[0m\u001b[0;34m(\u001b[0m\u001b[0;34m*\u001b[0m\u001b[0margs\u001b[0m\u001b[0;34m,\u001b[0m \u001b[0;34m**\u001b[0m\u001b[0mkwargs\u001b[0m\u001b[0;34m)\u001b[0m\u001b[0;34m\u001b[0m\u001b[0;34m\u001b[0m\u001b[0m\n\u001b[0m\u001b[1;32m    115\u001b[0m \u001b[0;34m\u001b[0m\u001b[0m\n\u001b[1;32m    116\u001b[0m         \u001b[0mwrapper\u001b[0m\u001b[0;34m.\u001b[0m\u001b[0m__signature__\u001b[0m \u001b[0;34m=\u001b[0m \u001b[0minspect\u001b[0m\u001b[0;34m.\u001b[0m\u001b[0msignature\u001b[0m\u001b[0;34m(\u001b[0m\u001b[0mfunction\u001b[0m\u001b[0;34m)\u001b[0m  \u001b[0;31m# type: ignore[attr-defined]\u001b[0m\u001b[0;34m\u001b[0m\u001b[0;34m\u001b[0m\u001b[0m\n",
            "\u001b[0;32m/usr/local/lib/python3.12/dist-packages/polars/_utils/deprecation.py\u001b[0m in \u001b[0;36mwrapper\u001b[0;34m(*args, **kwargs)\u001b[0m\n\u001b[1;32m    112\u001b[0m                 \u001b[0mold_name\u001b[0m\u001b[0;34m,\u001b[0m \u001b[0mnew_name\u001b[0m\u001b[0;34m,\u001b[0m \u001b[0mkwargs\u001b[0m\u001b[0;34m,\u001b[0m \u001b[0mfunction\u001b[0m\u001b[0;34m.\u001b[0m\u001b[0m__qualname__\u001b[0m\u001b[0;34m,\u001b[0m \u001b[0mversion\u001b[0m\u001b[0;34m\u001b[0m\u001b[0;34m\u001b[0m\u001b[0m\n\u001b[1;32m    113\u001b[0m             )\n\u001b[0;32m--> 114\u001b[0;31m             \u001b[0;32mreturn\u001b[0m \u001b[0mfunction\u001b[0m\u001b[0;34m(\u001b[0m\u001b[0;34m*\u001b[0m\u001b[0margs\u001b[0m\u001b[0;34m,\u001b[0m \u001b[0;34m**\u001b[0m\u001b[0mkwargs\u001b[0m\u001b[0;34m)\u001b[0m\u001b[0;34m\u001b[0m\u001b[0;34m\u001b[0m\u001b[0m\n\u001b[0m\u001b[1;32m    115\u001b[0m \u001b[0;34m\u001b[0m\u001b[0m\n\u001b[1;32m    116\u001b[0m         \u001b[0mwrapper\u001b[0m\u001b[0;34m.\u001b[0m\u001b[0m__signature__\u001b[0m \u001b[0;34m=\u001b[0m \u001b[0minspect\u001b[0m\u001b[0;34m.\u001b[0m\u001b[0msignature\u001b[0m\u001b[0;34m(\u001b[0m\u001b[0mfunction\u001b[0m\u001b[0;34m)\u001b[0m  \u001b[0;31m# type: ignore[attr-defined]\u001b[0m\u001b[0;34m\u001b[0m\u001b[0;34m\u001b[0m\u001b[0m\n",
            "\u001b[0;32m/usr/local/lib/python3.12/dist-packages/polars/io/csv/functions.py\u001b[0m in \u001b[0;36mread_csv\u001b[0;34m(source, has_header, columns, new_columns, separator, comment_prefix, quote_char, skip_rows, skip_lines, schema, schema_overrides, null_values, missing_utf8_is_empty_string, ignore_errors, try_parse_dates, n_threads, infer_schema, infer_schema_length, batch_size, n_rows, encoding, low_memory, rechunk, use_pyarrow, storage_options, skip_rows_after_header, row_index_name, row_index_offset, sample_size, eol_char, raise_if_empty, truncate_ragged_lines, decimal_comma, glob)\u001b[0m\n\u001b[1;32m    537\u001b[0m             \u001b[0mstorage_options\u001b[0m\u001b[0;34m=\u001b[0m\u001b[0mstorage_options\u001b[0m\u001b[0;34m,\u001b[0m\u001b[0;34m\u001b[0m\u001b[0;34m\u001b[0m\u001b[0m\n\u001b[1;32m    538\u001b[0m         ) as data:\n\u001b[0;32m--> 539\u001b[0;31m             df = _read_csv_impl(\n\u001b[0m\u001b[1;32m    540\u001b[0m                 \u001b[0mdata\u001b[0m\u001b[0;34m,\u001b[0m\u001b[0;34m\u001b[0m\u001b[0;34m\u001b[0m\u001b[0m\n\u001b[1;32m    541\u001b[0m                 \u001b[0mhas_header\u001b[0m\u001b[0;34m=\u001b[0m\u001b[0mhas_header\u001b[0m\u001b[0;34m,\u001b[0m\u001b[0;34m\u001b[0m\u001b[0;34m\u001b[0m\u001b[0m\n",
            "\u001b[0;32m/usr/local/lib/python3.12/dist-packages/polars/io/csv/functions.py\u001b[0m in \u001b[0;36m_read_csv_impl\u001b[0;34m(source, has_header, columns, separator, comment_prefix, quote_char, skip_rows, skip_lines, schema, schema_overrides, null_values, missing_utf8_is_empty_string, ignore_errors, try_parse_dates, n_threads, infer_schema_length, batch_size, n_rows, encoding, low_memory, rechunk, skip_rows_after_header, row_index_name, row_index_offset, sample_size, eol_char, raise_if_empty, truncate_ragged_lines, decimal_comma, glob)\u001b[0m\n\u001b[1;32m    685\u001b[0m     \u001b[0mprojection\u001b[0m\u001b[0;34m,\u001b[0m \u001b[0mcolumns\u001b[0m \u001b[0;34m=\u001b[0m \u001b[0mparse_columns_arg\u001b[0m\u001b[0;34m(\u001b[0m\u001b[0mcolumns\u001b[0m\u001b[0;34m)\u001b[0m\u001b[0;34m\u001b[0m\u001b[0;34m\u001b[0m\u001b[0m\n\u001b[1;32m    686\u001b[0m \u001b[0;34m\u001b[0m\u001b[0m\n\u001b[0;32m--> 687\u001b[0;31m     pydf = PyDataFrame.read_csv(\n\u001b[0m\u001b[1;32m    688\u001b[0m         \u001b[0msource\u001b[0m\u001b[0;34m,\u001b[0m\u001b[0;34m\u001b[0m\u001b[0;34m\u001b[0m\u001b[0m\n\u001b[1;32m    689\u001b[0m         \u001b[0minfer_schema_length\u001b[0m\u001b[0;34m,\u001b[0m\u001b[0;34m\u001b[0m\u001b[0;34m\u001b[0m\u001b[0m\n",
            "\u001b[0;31mFileNotFoundError\u001b[0m: No such file or directory (os error 2): item_properties_part2.csv"
          ]
        }
      ],
      "source": [
        "# LOAD AND CLEAN DATA\n",
        "\n",
        "from google.colab import files\n",
        "import polars as pl\n",
        "\n",
        "# Upload manually\n",
        "uploaded = files.upload()\n",
        "\n",
        "print(\"\\n📁 Loading data...\")\n",
        "events = pl.read_csv(\"events(in).csv\").drop(\"transactionid\").unique()\n",
        "props1 = pl.read_csv(\"item_properties_part1.1.csv\")\n",
        "categories = pl.read_csv(\"category_tree(in).csv\").unique()\n",
        "\n"
      ]
    },
    {
      "cell_type": "code",
      "source": [
        "properties = props1\n",
        "\n",
        "print(\"✅ Data loaded:\")\n",
        "print(\"  Events:\", events.shape)\n",
        "print(\"  Properties:\", properties.shape)"
      ],
      "metadata": {
        "colab": {
          "base_uri": "https://localhost:8080/"
        },
        "id": "to2vS0UbU8tw",
        "outputId": "1583ae3e-2e45-4669-c981-877f95958e6d"
      },
      "id": "to2vS0UbU8tw",
      "execution_count": 9,
      "outputs": [
        {
          "output_type": "stream",
          "name": "stdout",
          "text": [
            "✅ Data loaded:\n",
            "  Events: (850494, 4)\n",
            "  Properties: (10999999, 4)\n"
          ]
        }
      ]
    },
    {
      "cell_type": "markdown",
      "id": "c63f15e3-c672-488b-9fc5-1a22da4262be",
      "metadata": {
        "id": "c63f15e3-c672-488b-9fc5-1a22da4262be"
      },
      "source": [
        "### Data cleaning"
      ]
    },
    {
      "cell_type": "code",
      "source": [
        "events = (\n",
        "    events\n",
        "    .with_columns([\n",
        "        pl.col(\"timestamp\").cast(pl.Int64, strict=False),\n",
        "        pl.col(\"visitorid\").cast(pl.Int64, strict=False),\n",
        "        pl.col(\"itemid\").cast(pl.Int64, strict=False),\n",
        "        pl.col(\"event\").cast(pl.Utf8),\n",
        "        pl.from_epoch(pl.col(\"timestamp\"), time_unit=\"ms\").alias(\"ts_dt\")\n",
        "    ])\n",
        ")\n",
        "print(\"✅ Events ready:\", events.shape)\n"
      ],
      "metadata": {
        "id": "Q7dtxw78wo6H",
        "colab": {
          "base_uri": "https://localhost:8080/"
        },
        "outputId": "7a36d262-f98e-4751-e4a1-b3170a835559"
      },
      "id": "Q7dtxw78wo6H",
      "execution_count": 10,
      "outputs": [
        {
          "output_type": "stream",
          "name": "stdout",
          "text": [
            "✅ Events ready: (850494, 5)\n"
          ]
        }
      ]
    },
    {
      "cell_type": "code",
      "source": [
        "properties_num = (\n",
        "    properties\n",
        "    .select([\"timestamp\", \"itemid\", \"property\", \"value\"])\n",
        "    .with_columns([\n",
        "        pl.col(\"timestamp\").cast(pl.Int64, strict=False),\n",
        "        pl.col(\"itemid\").cast(pl.Int64, strict=False),\n",
        "        pl.col(\"property\").cast(pl.Utf8),\n",
        "        pl.col(\"value\").cast(pl.Utf8),\n",
        "    ])\n",
        "    .filter(pl.col(\"value\").str.starts_with(\"n\"))   # keep only n-values\n",
        "    .with_columns([\n",
        "        pl.from_epoch(pl.col(\"timestamp\"), time_unit=\"ms\").alias(\"ts_dt\"),\n",
        "        pl.col(\"value\").str.slice(1).cast(pl.Float64, strict=False).alias(\"numerical_value\")\n",
        "    ])\n",
        "    .drop(\"value\")\n",
        "    .filter(pl.col(\"numerical_value\").is_not_null())\n",
        ")\n",
        "print(\"✅ Numeric properties ready:\", properties_num.shape)\n"
      ],
      "metadata": {
        "id": "qD0FEZ08eOjw",
        "colab": {
          "base_uri": "https://localhost:8080/"
        },
        "outputId": "45ee7c3d-0723-46d8-ee40-2b10ae2f00e5"
      },
      "id": "qD0FEZ08eOjw",
      "execution_count": 11,
      "outputs": [
        {
          "output_type": "stream",
          "name": "stdout",
          "text": [
            "✅ Numeric properties ready: (1254501, 5)\n"
          ]
        }
      ]
    },
    {
      "cell_type": "code",
      "source": [
        "print(\"\\n📊 Events summary\")\n",
        "print(events.describe())\n",
        "\n",
        "print(\"\\n📊 Numeric Properties summary\")\n",
        "print(properties_num.describe())\n",
        "\n"
      ],
      "metadata": {
        "id": "6jF1mDH7f0tQ",
        "colab": {
          "base_uri": "https://localhost:8080/"
        },
        "outputId": "f2d4aaf3-743a-4ddb-d5d7-036ff7aa3e23"
      },
      "id": "6jF1mDH7f0tQ",
      "execution_count": 12,
      "outputs": [
        {
          "output_type": "stream",
          "name": "stdout",
          "text": [
            "\n",
            "📊 Events summary\n",
            "shape: (9, 6)\n",
            "┌────────────┬───────────┬───────────────┬───────────┬───────────────┬────────────────────────────┐\n",
            "│ statistic  ┆ timestamp ┆ visitorid     ┆ event     ┆ itemid        ┆ ts_dt                      │\n",
            "│ ---        ┆ ---       ┆ ---           ┆ ---       ┆ ---           ┆ ---                        │\n",
            "│ str        ┆ f64       ┆ f64           ┆ str       ┆ f64           ┆ str                        │\n",
            "╞════════════╪═══════════╪═══════════════╪═══════════╪═══════════════╪════════════════════════════╡\n",
            "│ count      ┆ 850494.0  ┆ 850494.0      ┆ 850494    ┆ 850494.0      ┆ 850494                     │\n",
            "│ null_count ┆ 0.0       ┆ 0.0           ┆ 0         ┆ 0.0           ┆ 0                          │\n",
            "│ mean       ┆ 1.4359e12 ┆ 702305.421153 ┆ null      ┆ 234407.595416 ┆ 2015-07-03 16:34:36.481000 │\n",
            "│ std        ┆ 4.9106e9  ┆ 405131.652767 ┆ null      ┆ 134161.883869 ┆ null                       │\n",
            "│ min        ┆ 1.4300e12 ┆ 1.0           ┆ addtocart ┆ 3.0           ┆ 2015-04-25 22:13:20        │\n",
            "│ 25%        ┆ 1.4300e12 ┆ 351722.0      ┆ null      ┆ 117551.0      ┆ 2015-04-25 22:13:20        │\n",
            "│ 50%        ┆ 1.4400e12 ┆ 701871.0      ┆ null      ┆ 235060.0      ┆ 2015-08-19 16:00:00        │\n",
            "│ 75%        ┆ 1.4400e12 ┆ 1.055121e6    ┆ null      ┆ 350399.0      ┆ 2015-08-19 16:00:00        │\n",
            "│ max        ┆ 1.4400e12 ┆ 1.407579e6    ┆ view      ┆ 466867.0      ┆ 2015-08-19 16:00:00        │\n",
            "└────────────┴───────────┴───────────────┴───────────┴───────────────┴────────────────────────────┘\n",
            "\n",
            "📊 Numeric Properties summary\n",
            "shape: (9, 6)\n",
            "┌────────────┬────────────┬───────────────┬──────────┬─────────────────────┬─────────────────┐\n",
            "│ statistic  ┆ timestamp  ┆ itemid        ┆ property ┆ ts_dt               ┆ numerical_value │\n",
            "│ ---        ┆ ---        ┆ ---           ┆ ---      ┆ ---                 ┆ ---             │\n",
            "│ str        ┆ f64        ┆ f64           ┆ str      ┆ str                 ┆ f64             │\n",
            "╞════════════╪════════════╪═══════════════╪══════════╪═════════════════════╪═════════════════╡\n",
            "│ count      ┆ 1.254501e6 ┆ 1.254501e6    ┆ 1254501  ┆ 1254501             ┆ 1.254501e6      │\n",
            "│ null_count ┆ 0.0        ┆ 0.0           ┆ 0        ┆ 0                   ┆ 0.0             │\n",
            "│ mean       ┆ 1.4357e12  ┆ 233444.754448 ┆ null     ┆ 2015-06-30          ┆ inf             │\n",
            "│            ┆            ┆               ┆          ┆ 14:00:08.290000     ┆                 │\n",
            "│ std        ┆ 3.4450e9   ┆ 134617.577179 ┆ null     ┆ null                ┆ NaN             │\n",
            "│ min        ┆ 1.4312e12  ┆ 1.0           ┆ 1001     ┆ 2015-05-10 03:00:00 ┆ -408.0          │\n",
            "│ 25%        ┆ 1.4324e12  ┆ 116772.0      ┆ null     ┆ 2015-05-24 03:00:00 ┆ 7908.0          │\n",
            "│ 50%        ┆ 1.4355e12  ┆ 233605.0      ┆ null     ┆ 2015-06-28 03:00:00 ┆ 34560.0         │\n",
            "│ 75%        ┆ 1.4385e12  ┆ 349929.0      ┆ null     ┆ 2015-08-02 03:00:00 ┆ 118788.0        │\n",
            "│ max        ┆ 1.4421e12  ┆ 466866.0      ┆ 998      ┆ 2015-09-13 03:00:00 ┆ inf             │\n",
            "└────────────┴────────────┴───────────────┴──────────┴─────────────────────┴─────────────────┘\n"
          ]
        }
      ]
    },
    {
      "cell_type": "code",
      "source": [
        "# dropping ifinite$ nans\n",
        "properties_num = (\n",
        "    properties_num\n",
        "    .filter(pl.col(\"numerical_value\").is_finite())  # removes NaN, inf, -inf\n",
        ")\n",
        "print(\"✅ Cleaned properties_num:\", properties_num.shape)\n"
      ],
      "metadata": {
        "id": "8aqinINogT0w",
        "colab": {
          "base_uri": "https://localhost:8080/"
        },
        "outputId": "80ddf143-52bb-4883-f9a6-c6aa44a62842"
      },
      "id": "8aqinINogT0w",
      "execution_count": 13,
      "outputs": [
        {
          "output_type": "stream",
          "name": "stdout",
          "text": [
            "✅ Cleaned properties_num: (1254490, 5)\n"
          ]
        }
      ]
    },
    {
      "cell_type": "code",
      "source": [
        "# Keep only active users (at least 2 events)\n",
        "active_users = (\n",
        "    events.group_by(\"visitorid\")\n",
        "    .agg(pl.count().alias(\"cnt\"))\n",
        "    .filter(pl.col(\"cnt\") > 1)\n",
        "    .select(\"visitorid\")   # <-- make sure it's a DataFrame, not a Series\n",
        ")\n",
        "\n",
        "# Join back\n",
        "events = events.join(active_users, on=\"visitorid\", how=\"inner\")\n",
        "\n",
        "print(\"✅ Cleaned events:\", events.shape)\n"
      ],
      "metadata": {
        "id": "5zcW_7w7gtT9",
        "colab": {
          "base_uri": "https://localhost:8080/"
        },
        "outputId": "b4492bd1-8531-410c-9ea1-8e634c221ce0"
      },
      "id": "5zcW_7w7gtT9",
      "execution_count": 14,
      "outputs": [
        {
          "output_type": "stream",
          "name": "stdout",
          "text": [
            "✅ Cleaned events: (406127, 5)\n"
          ]
        }
      ]
    },
    {
      "cell_type": "code",
      "source": [
        "# Handle outliers: clip values to [1%, 99%] range\n",
        "q_low = properties_num[\"numerical_value\"].quantile(0.01)\n",
        "q_high = properties_num[\"numerical_value\"].quantile(0.99)\n",
        "\n",
        "properties_num = properties_num.with_columns(\n",
        "    pl.col(\"numerical_value\").clip(q_low, q_high)\n",
        ")\n",
        "\n",
        "print(\"✅ Cleaned numeric properties:\", properties_num.shape)\n"
      ],
      "metadata": {
        "id": "jIRoatb_hO2U",
        "colab": {
          "base_uri": "https://localhost:8080/"
        },
        "outputId": "509bd130-5752-4476-9fa0-d6bf19abfd66"
      },
      "id": "jIRoatb_hO2U",
      "execution_count": 15,
      "outputs": [
        {
          "output_type": "stream",
          "name": "stdout",
          "text": [
            "✅ Cleaned numeric properties: (1254490, 5)\n"
          ]
        }
      ]
    },
    {
      "cell_type": "code",
      "source": [
        "pl.from_epoch(pl.col(\"timestamp\"), time_unit=\"ms\")\n"
      ],
      "metadata": {
        "id": "pWqmFuFDh9n0",
        "colab": {
          "base_uri": "https://localhost:8080/",
          "height": 34
        },
        "outputId": "4c8f4ffb-cd01-41f8-c377-329e3e1b2b2e"
      },
      "id": "pWqmFuFDh9n0",
      "execution_count": 16,
      "outputs": [
        {
          "output_type": "execute_result",
          "data": {
            "text/plain": [
              "<Expr ['col(\"timestamp\").strict_cast(D…'] at 0x7D00A1E04710>"
            ],
            "text/html": [
              "col(\"timestamp\").strict_cast(Datetime(Milliseconds, None))"
            ]
          },
          "metadata": {},
          "execution_count": 16
        }
      ]
    },
    {
      "cell_type": "code",
      "source": [
        "# --- Clean events ---\n",
        "events = (\n",
        "    events\n",
        "    .unique()\n",
        "    .with_columns([\n",
        "        pl.from_epoch(pl.col(\"timestamp\"), time_unit=\"ms\").alias(\"timestamp_clean\")\n",
        "    ])\n",
        "    .drop(\"timestamp\")                              # remove old int timestamp\n",
        "    .rename({\"timestamp_clean\": \"timestamp\"})       # keep datetime only\n",
        "    .drop_nulls()                                   # drop rows with ANY null\n",
        ")\n",
        "\n",
        "# --- Clean numeric properties ---\n",
        "properties_num = (\n",
        "    properties_num\n",
        "    .unique()\n",
        "    .with_columns([\n",
        "        pl.from_epoch(pl.col(\"timestamp\"), time_unit=\"ms\").alias(\"timestamp_clean\")\n",
        "    ])\n",
        "    .drop(\"timestamp\")                              # remove old int timestamp\n",
        "    .rename({\"timestamp_clean\": \"timestamp\"})       # keep datetime only\n",
        "    .drop_nulls()                                   # drop rows with ANY null\n",
        ")\n",
        "\n",
        "# --- Summaries ---\n",
        "print(\"📊 Events summary\")\n",
        "print(events.describe())\n",
        "\n",
        "print(\"\\n📊 Numeric Properties summary\")\n",
        "print(properties_num.describe())\n"
      ],
      "metadata": {
        "id": "lsmGCbIbiveL",
        "colab": {
          "base_uri": "https://localhost:8080/"
        },
        "outputId": "524ccd13-b0b4-4394-be34-aae5e1b847b1"
      },
      "id": "lsmGCbIbiveL",
      "execution_count": 17,
      "outputs": [
        {
          "output_type": "stream",
          "name": "stdout",
          "text": [
            "📊 Events summary\n",
            "shape: (9, 6)\n",
            "┌────────────┬───────────────┬───────────┬───────────────┬─────────────────┬───────────────────────┐\n",
            "│ statistic  ┆ visitorid     ┆ event     ┆ itemid        ┆ ts_dt           ┆ timestamp             │\n",
            "│ ---        ┆ ---           ┆ ---       ┆ ---           ┆ ---             ┆ ---                   │\n",
            "│ str        ┆ f64           ┆ str       ┆ f64           ┆ str             ┆ str                   │\n",
            "╞════════════╪═══════════════╪═══════════╪═══════════════╪═════════════════╪═══════════════════════╡\n",
            "│ count      ┆ 406127.0      ┆ 406127    ┆ 406127.0      ┆ 406127          ┆ 406127                │\n",
            "│ null_count ┆ 0.0           ┆ 0         ┆ 0.0           ┆ 0               ┆ 0                     │\n",
            "│ mean       ┆ 699958.864552 ┆ null      ┆ 235131.775777 ┆ 2015-07-01      ┆ 2015-07-01            │\n",
            "│            ┆               ┆           ┆               ┆ 10:25:55.204000 ┆ 10:25:55.204000       │\n",
            "│ std        ┆ 403756.436668 ┆ null      ┆ 134175.671338 ┆ null            ┆ null                  │\n",
            "│ min        ┆ 2.0           ┆ addtocart ┆ 3.0           ┆ 2015-04-25      ┆ 2015-04-25 22:13:20   │\n",
            "│            ┆               ┆           ┆               ┆ 22:13:20        ┆                       │\n",
            "│ 25%        ┆ 350998.0      ┆ null      ┆ 118720.0      ┆ 2015-04-25      ┆ 2015-04-25 22:13:20   │\n",
            "│            ┆               ┆           ┆               ┆ 22:13:20        ┆                       │\n",
            "│ 50%        ┆ 698484.0      ┆ null      ┆ 236914.0      ┆ 2015-08-19      ┆ 2015-08-19 16:00:00   │\n",
            "│            ┆               ┆           ┆               ┆ 16:00:00        ┆                       │\n",
            "│ 75%        ┆ 1.052688e6    ┆ null      ┆ 350980.0      ┆ 2015-08-19      ┆ 2015-08-19 16:00:00   │\n",
            "│            ┆               ┆           ┆               ┆ 16:00:00        ┆                       │\n",
            "│ max        ┆ 1.407567e6    ┆ view      ┆ 466867.0      ┆ 2015-08-19      ┆ 2015-08-19 16:00:00   │\n",
            "│            ┆               ┆           ┆               ┆ 16:00:00        ┆                       │\n",
            "└────────────┴───────────────┴───────────┴───────────────┴─────────────────┴───────────────────────┘\n",
            "\n",
            "📊 Numeric Properties summary\n",
            "shape: (9, 6)\n",
            "┌────────────┬───────────────┬──────────┬────────────────────┬─────────────────┬───────────────────┐\n",
            "│ statistic  ┆ itemid        ┆ property ┆ ts_dt              ┆ numerical_value ┆ timestamp         │\n",
            "│ ---        ┆ ---           ┆ ---      ┆ ---                ┆ ---             ┆ ---               │\n",
            "│ str        ┆ f64           ┆ str      ┆ str                ┆ f64             ┆ str               │\n",
            "╞════════════╪═══════════════╪══════════╪════════════════════╪═════════════════╪═══════════════════╡\n",
            "│ count      ┆ 1.25449e6     ┆ 1254490  ┆ 1254490            ┆ 1.25449e6       ┆ 1254490           │\n",
            "│ null_count ┆ 0.0           ┆ 0        ┆ 0                  ┆ 0.0             ┆ 0                 │\n",
            "│ mean       ┆ 233444.574472 ┆ null     ┆ 2015-06-30         ┆ 1.1781e8        ┆ 2015-06-30        │\n",
            "│            ┆               ┆          ┆ 14:00:11.599000    ┆                 ┆ 14:00:11.599000   │\n",
            "│ std        ┆ 134617.373295 ┆ null     ┆ null               ┆ 1.0141e9        ┆ null              │\n",
            "│ min        ┆ 1.0           ┆ 1001     ┆ 2015-05-10         ┆ 12.0            ┆ 2015-05-10        │\n",
            "│            ┆               ┆          ┆ 03:00:00           ┆                 ┆ 03:00:00          │\n",
            "│ 25%        ┆ 116772.0      ┆ null     ┆ 2015-05-24         ┆ 7908.0          ┆ 2015-05-24        │\n",
            "│            ┆               ┆          ┆ 03:00:00           ┆                 ┆ 03:00:00          │\n",
            "│ 50%        ┆ 233606.0      ┆ null     ┆ 2015-06-28         ┆ 34560.0         ┆ 2015-06-28        │\n",
            "│            ┆               ┆          ┆ 03:00:00           ┆                 ┆ 03:00:00          │\n",
            "│ 75%        ┆ 349927.0      ┆ null     ┆ 2015-08-02         ┆ 118716.0        ┆ 2015-08-02        │\n",
            "│            ┆               ┆          ┆ 03:00:00           ┆                 ┆ 03:00:00          │\n",
            "│ max        ┆ 466866.0      ┆ 998      ┆ 2015-09-13         ┆ 9.7205e9        ┆ 2015-09-13        │\n",
            "│            ┆               ┆          ┆ 03:00:00           ┆                 ┆ 03:00:00          │\n",
            "└────────────┴───────────────┴──────────┴────────────────────┴─────────────────┴───────────────────┘\n"
          ]
        }
      ]
    },
    {
      "cell_type": "code",
      "source": [
        "print(events.dtypes)\n",
        "print(properties_num.dtypes)"
      ],
      "metadata": {
        "id": "dBYlXkRdiXSh",
        "colab": {
          "base_uri": "https://localhost:8080/"
        },
        "outputId": "9774dd05-95b6-4506-8ffd-5f31f8045c2b"
      },
      "id": "dBYlXkRdiXSh",
      "execution_count": 18,
      "outputs": [
        {
          "output_type": "stream",
          "name": "stdout",
          "text": [
            "[Int64, String, Int64, Datetime(time_unit='ms', time_zone=None), Datetime(time_unit='ms', time_zone=None)]\n",
            "[Int64, String, Datetime(time_unit='ms', time_zone=None), Float64, Datetime(time_unit='ms', time_zone=None)]\n"
          ]
        }
      ]
    },
    {
      "cell_type": "code",
      "source": [
        "\n",
        "print(events.head(10))\n",
        "\n",
        "\n",
        "print(properties_num.head(10))"
      ],
      "metadata": {
        "id": "MQCb6RtXjRv0",
        "colab": {
          "base_uri": "https://localhost:8080/"
        },
        "outputId": "88c8fefb-bf05-449e-a1e4-9cf3c13fd121"
      },
      "id": "MQCb6RtXjRv0",
      "execution_count": 19,
      "outputs": [
        {
          "output_type": "stream",
          "name": "stdout",
          "text": [
            "shape: (10, 5)\n",
            "┌───────────┬───────┬────────┬─────────────────────┬─────────────────────┐\n",
            "│ visitorid ┆ event ┆ itemid ┆ ts_dt               ┆ timestamp           │\n",
            "│ ---       ┆ ---   ┆ ---    ┆ ---                 ┆ ---                 │\n",
            "│ i64       ┆ str   ┆ i64    ┆ datetime[ms]        ┆ datetime[ms]        │\n",
            "╞═══════════╪═══════╪════════╪═════════════════════╪═════════════════════╡\n",
            "│ 276382    ┆ view  ┆ 149230 ┆ 2015-08-19 16:00:00 ┆ 2015-08-19 16:00:00 │\n",
            "│ 754965    ┆ view  ┆ 455804 ┆ 2015-08-19 16:00:00 ┆ 2015-08-19 16:00:00 │\n",
            "│ 1073622   ┆ view  ┆ 358234 ┆ 2015-08-19 16:00:00 ┆ 2015-08-19 16:00:00 │\n",
            "│ 11333     ┆ view  ┆ 399195 ┆ 2015-08-19 16:00:00 ┆ 2015-08-19 16:00:00 │\n",
            "│ 1053927   ┆ view  ┆ 458130 ┆ 2015-04-25 22:13:20 ┆ 2015-04-25 22:13:20 │\n",
            "│ 1342777   ┆ view  ┆ 186666 ┆ 2015-08-19 16:00:00 ┆ 2015-08-19 16:00:00 │\n",
            "│ 1069627   ┆ view  ┆ 84252  ┆ 2015-08-19 16:00:00 ┆ 2015-08-19 16:00:00 │\n",
            "│ 287423    ┆ view  ┆ 86057  ┆ 2015-04-25 22:13:20 ┆ 2015-04-25 22:13:20 │\n",
            "│ 576045    ┆ view  ┆ 212917 ┆ 2015-08-19 16:00:00 ┆ 2015-08-19 16:00:00 │\n",
            "│ 1257008   ┆ view  ┆ 398527 ┆ 2015-04-25 22:13:20 ┆ 2015-04-25 22:13:20 │\n",
            "└───────────┴───────┴────────┴─────────────────────┴─────────────────────┘\n",
            "shape: (10, 5)\n",
            "┌────────┬──────────┬─────────────────────┬─────────────────┬─────────────────────┐\n",
            "│ itemid ┆ property ┆ ts_dt               ┆ numerical_value ┆ timestamp           │\n",
            "│ ---    ┆ ---      ┆ ---                 ┆ ---             ┆ ---                 │\n",
            "│ i64    ┆ str      ┆ datetime[ms]        ┆ f64             ┆ datetime[ms]        │\n",
            "╞════════╪══════════╪═════════════════════╪═════════════════╪═════════════════════╡\n",
            "│ 465218 ┆ 441      ┆ 2015-06-07 03:00:00 ┆ 504.0           ┆ 2015-06-07 03:00:00 │\n",
            "│ 257975 ┆ 790      ┆ 2015-06-07 03:00:00 ┆ 33480.0         ┆ 2015-06-07 03:00:00 │\n",
            "│ 119398 ┆ 790      ┆ 2015-09-06 03:00:00 ┆ 25440.0         ┆ 2015-09-06 03:00:00 │\n",
            "│ 188448 ┆ 888      ┆ 2015-08-30 03:00:00 ┆ 1.586988e6      ┆ 2015-08-30 03:00:00 │\n",
            "│ 388937 ┆ 790      ┆ 2015-06-07 03:00:00 ┆ 19200.0         ┆ 2015-06-07 03:00:00 │\n",
            "│ 170690 ┆ 790      ┆ 2015-06-07 03:00:00 ┆ 78600.0         ┆ 2015-06-07 03:00:00 │\n",
            "│ 229025 ┆ 790      ┆ 2015-07-05 03:00:00 ┆ 12360.0         ┆ 2015-07-05 03:00:00 │\n",
            "│ 336738 ┆ 790      ┆ 2015-05-31 03:00:00 ┆ 154800.0        ┆ 2015-05-31 03:00:00 │\n",
            "│ 99976  ┆ 917      ┆ 2015-06-07 03:00:00 ┆ 9.7205e9        ┆ 2015-06-07 03:00:00 │\n",
            "│ 160456 ┆ 790      ┆ 2015-08-23 03:00:00 ┆ 190680.0        ┆ 2015-08-23 03:00:00 │\n",
            "└────────┴──────────┴─────────────────────┴─────────────────┴─────────────────────┘\n"
          ]
        }
      ]
    },
    {
      "cell_type": "code",
      "source": [
        "print(\"🎯 Unique event types:\")\n",
        "print(events.select(pl.col(\"event\")).unique())\n"
      ],
      "metadata": {
        "id": "O6Fb9W71mssE",
        "colab": {
          "base_uri": "https://localhost:8080/"
        },
        "outputId": "dda1e95d-427b-4026-9072-e13d86c02383"
      },
      "id": "O6Fb9W71mssE",
      "execution_count": 20,
      "outputs": [
        {
          "output_type": "stream",
          "name": "stdout",
          "text": [
            "🎯 Unique event types:\n",
            "shape: (3, 1)\n",
            "┌─────────────┐\n",
            "│ event       │\n",
            "│ ---         │\n",
            "│ str         │\n",
            "╞═════════════╡\n",
            "│ view        │\n",
            "│ transaction │\n",
            "│ addtocart   │\n",
            "└─────────────┘\n"
          ]
        }
      ]
    },
    {
      "cell_type": "code",
      "source": [],
      "metadata": {
        "id": "RUQmYM4lmtF2"
      },
      "id": "RUQmYM4lmtF2",
      "execution_count": null,
      "outputs": []
    },
    {
      "cell_type": "markdown",
      "id": "7137213b-9aae-4a9d-abf7-5c22bdbb3e16",
      "metadata": {
        "id": "7137213b-9aae-4a9d-abf7-5c22bdbb3e16"
      },
      "source": [
        "## EDA VISUALIZATIONS"
      ]
    },
    {
      "cell_type": "code",
      "execution_count": 22,
      "id": "9bbd199e-5f15-4768-82a8-2609b7d68396",
      "metadata": {
        "id": "9bbd199e-5f15-4768-82a8-2609b7d68396",
        "colab": {
          "base_uri": "https://localhost:8080/",
          "height": 507
        },
        "outputId": "4accba21-26cf-4d22-ca13-991cf03a008d"
      },
      "outputs": [
        {
          "output_type": "display_data",
          "data": {
            "text/plain": [
              "<Figure size 1400x500 with 2 Axes>"
            ],
            "image/png": "[encoded data removed]"
          },
          "metadata": {}
        }
      ],
      "source": [
        "import matplotlib.pyplot as plt\n",
        "import matplotlib.dates as mdates\n",
        "import polars as pl\n",
        "\n",
        "# --- Monthly counts helper ---\n",
        "def monthly_counts(df):\n",
        "    return (\n",
        "        df.with_columns(\n",
        "            pl.col(\"timestamp\").dt.truncate(\"1mo\").alias(\"month\")  # ✅ already datetime\n",
        "        )\n",
        "        .group_by(\"month\")\n",
        "        .agg(pl.count().alias(\"count\"))\n",
        "        .sort(\"month\")\n",
        "    )\n",
        "\n",
        "# --- Apply to events and numeric properties ---\n",
        "events_monthly = monthly_counts(events)\n",
        "properties_monthly = monthly_counts(properties_num)\n",
        "\n",
        "# --- Plot ---\n",
        "fig, axes = plt.subplots(1, 2, figsize=(14, 5), sharey=True)\n",
        "\n",
        "for ax, data, title in zip(\n",
        "    axes,\n",
        "    [events_monthly, properties_monthly],\n",
        "    [\"Events\", \"Properties\"]\n",
        "):\n",
        "    months = data[\"month\"].to_numpy()\n",
        "    counts = data[\"count\"].to_numpy()\n",
        "\n",
        "    ax.plot(months, counts, linewidth=2, color='steelblue', marker='o')\n",
        "    ax.set_title(f'Monthly {title} Activity')\n",
        "    ax.set_xlabel('Month')\n",
        "    ax.yaxis.set_visible(False)\n",
        "\n",
        "    # Rotate month labels\n",
        "    ax.tick_params(axis='x', rotation=45)\n",
        "    ax.xaxis.set_major_locator(mdates.MonthLocator(interval=1))\n",
        "    ax.xaxis.set_major_formatter(mdates.DateFormatter('%b %Y'))\n",
        "\n",
        "    # Annotate points\n",
        "    for x, y in zip(months, counts):\n",
        "        ax.text(x, y + (max(counts) * 0.02), str(y), ha='center', fontsize=9)\n",
        "\n",
        "    ax.grid(True, alpha=0.3)\n",
        "\n",
        "plt.tight_layout()\n",
        "plt.show()\n"
      ]
    },
    {
      "cell_type": "code",
      "execution_count": 23,
      "id": "8f3f84fe-5372-4af7-b671-e3b5b4fe410b",
      "metadata": {
        "id": "8f3f84fe-5372-4af7-b671-e3b5b4fe410b",
        "colab": {
          "base_uri": "https://localhost:8080/",
          "height": 607
        },
        "outputId": "872a65c0-8ed8-48bd-9ced-186658c804ca"
      },
      "outputs": [
        {
          "output_type": "display_data",
          "data": {
            "text/plain": [
              "<Figure size 1000x600 with 1 Axes>"
            ],
            "image/png": "[encoded data removed]"
          },
          "metadata": {}
        }
      ],
      "source": [
        "# --- User Activity Distribution ---\n",
        "# Using polars instead of pandas for groupby operation\n",
        "\n",
        "\n",
        "# Assuming events is a polars DataFrame\n",
        "# If it's not already a polars DataFrame, you would need to create/convert it first\n",
        "# For example: events = pl.from_pandas(events_pandas) if you have a pandas DataFrame\n",
        "\n",
        "# Group by visitorid and count occurrences\n",
        "user_activity = events.group_by('visitorid').agg(pl.count()).rename({\"count\": \"activity_count\"})\n",
        "\n",
        "plt.figure(figsize=(10, 6))\n",
        "plt.hist(user_activity[\"activity_count\"].to_numpy(), bins=50, edgecolor='black', alpha=0.7, color='lightgreen')\n",
        "\n",
        "plt.title(f'User Activity Distribution\\n({user_activity.height:,} unique users)',\n",
        "          fontsize=14, fontweight='bold')\n",
        "plt.xlabel('Events per User', fontsize=12)\n",
        "plt.ylabel('Number of Users', fontsize=12)\n",
        "\n",
        "# Log scale for better visibility of distribution\n",
        "plt.yscale('log')\n",
        "\n",
        "plt.tight_layout()\n",
        "plt.show()"
      ]
    },
    {
      "cell_type": "code",
      "execution_count": 24,
      "id": "bcc6d9b6-c425-47f6-a184-04cfa561128e",
      "metadata": {
        "id": "bcc6d9b6-c425-47f6-a184-04cfa561128e",
        "colab": {
          "base_uri": "https://localhost:8080/",
          "height": 607
        },
        "outputId": "8889b038-b154-4016-b9f3-7cc93f04bcc8"
      },
      "outputs": [
        {
          "output_type": "display_data",
          "data": {
            "text/plain": [
              "<Figure size 1000x600 with 1 Axes>"
            ],
            "image/png": "[encoded data removed]"
          },
          "metadata": {}
        }
      ],
      "source": [
        "# --- Top 10 Property Types ---\n",
        "prop_counts = (\n",
        "    properties_num\n",
        "    .group_by('property')\n",
        "    .count()\n",
        "    .sort('count', descending=True)\n",
        "    .head(10)\n",
        ")\n",
        "\n",
        "# Get total unique properties\n",
        "unique_count = properties_num['property'].n_unique()\n",
        "\n",
        "# --- Plot ---\n",
        "plt.figure(figsize=(10, 6))\n",
        "bars = plt.bar(\n",
        "    range(len(prop_counts)),\n",
        "    prop_counts['count'].to_list(),\n",
        "    color='mediumslateblue',\n",
        "    alpha=0.8\n",
        ")\n",
        "\n",
        "plt.title(\n",
        "    f\"Top 10 Property Types\\n({unique_count:,} unique properties in total)\",\n",
        "    fontsize=14,\n",
        "    fontweight=\"bold\"\n",
        ")\n",
        "plt.xlabel(\"Property Type (Top 10)\", fontsize=12)\n",
        "\n",
        "# Add value labels above bars\n",
        "for bar in bars:\n",
        "    height = bar.get_height()\n",
        "    plt.text(\n",
        "        bar.get_x() + bar.get_width()/2.,\n",
        "        height + (max(prop_counts['count']) * 0.01),\n",
        "        f\"{int(height):,}\",\n",
        "        ha='center',\n",
        "        va='bottom',\n",
        "        fontsize=10\n",
        "    )\n",
        "\n",
        "# X-axis labels\n",
        "plt.xticks(\n",
        "    range(len(prop_counts)),\n",
        "    prop_counts['property'].to_list(),\n",
        "    rotation=45,\n",
        "    ha='right'\n",
        ")\n",
        "\n",
        "# Clean Y-axis\n",
        "plt.yticks([])\n",
        "plt.ylabel(\"\")\n",
        "plt.gca().spines['left'].set_visible(False)\n",
        "\n",
        "plt.tight_layout()\n",
        "plt.show()\n"
      ]
    },
    {
      "cell_type": "code",
      "source": [
        "import matplotlib.pyplot as plt\n",
        "import matplotlib.dates as mdates\n",
        "import polars as pl\n",
        "\n",
        "# --- Monthly counts by event type ---\n",
        "def monthly_event_counts(df):\n",
        "    return (\n",
        "        df.with_columns(\n",
        "            pl.col(\"timestamp\").dt.truncate(\"1mo\").alias(\"month\")\n",
        "        )\n",
        "        .group_by([\"month\", \"event\"])\n",
        "        .agg(pl.count().alias(\"count\"))\n",
        "        .sort([\"month\", \"event\"])\n",
        "    )\n",
        "\n",
        "# --- Get counts ---\n",
        "events_by_type = monthly_event_counts(events)\n",
        "\n",
        "# --- Pivot for plotting (month x event_type) ---\n",
        "events_pivot = events_by_type.pivot(\n",
        "    index=\"month\", columns=\"event\", values=\"count\"\n",
        ").fill_null(0)\n",
        "\n",
        "# --- Plot ---\n",
        "plt.figure(figsize=(10, 6))\n",
        "for event_type in events_pivot.drop(\"month\").columns:\n",
        "    plt.plot(\n",
        "        events_pivot[\"month\"].to_numpy(),\n",
        "        events_pivot[event_type].to_numpy(),\n",
        "        marker=\"o\",\n",
        "        label=event_type\n",
        "    )\n",
        "\n",
        "plt.title(\"Monthly Event Activity by Type\")\n",
        "plt.xlabel(\"Month\")\n",
        "plt.ylabel(\"Count\")\n",
        "plt.legend(title=\"Event Type\")\n",
        "plt.xticks(rotation=45)\n",
        "plt.gca().xaxis.set_major_locator(mdates.MonthLocator(interval=1))\n",
        "plt.gca().xaxis.set_major_formatter(mdates.DateFormatter('%b %Y'))\n",
        "plt.grid(True, alpha=0.3)\n",
        "\n",
        "plt.tight_layout()\n",
        "plt.show()\n"
      ],
      "metadata": {
        "id": "hf3RQWfGoI8f",
        "colab": {
          "base_uri": "https://localhost:8080/",
          "height": 607
        },
        "outputId": "586141c2-d92b-46a0-d648-3208090ec86e"
      },
      "id": "hf3RQWfGoI8f",
      "execution_count": 25,
      "outputs": [
        {
          "output_type": "display_data",
          "data": {
            "text/plain": [
              "<Figure size 1000x600 with 1 Axes>"
            ],
            "image/png": "[encoded data removed]"
          },
          "metadata": {}
        }
      ]
    },
    {
      "cell_type": "code",
      "execution_count": 28,
      "id": "79ba1b88-999d-4c01-bc3b-b7eb04b7db80",
      "metadata": {
        "id": "79ba1b88-999d-4c01-bc3b-b7eb04b7db80",
        "colab": {
          "base_uri": "https://localhost:8080/"
        },
        "outputId": "69655b24-919c-41ee-af51-5c08635680a3"
      },
      "outputs": [
        {
          "output_type": "stream",
          "name": "stdout",
          "text": [
            "shape: (3, 4)\n",
            "┌─────────────┬──────────────┬──────────────┬──────────────┐\n",
            "│ event       ┆ unique_users ┆ unique_items ┆ total_events │\n",
            "│ ---         ┆ ---          ┆ ---          ┆ ---          │\n",
            "│ str         ┆ u32          ┆ u32          ┆ u32          │\n",
            "╞═════════════╪══════════════╪══════════════╪══════════════╡\n",
            "│ view        ┆ 111913       ┆ 91073        ┆ 374711       │\n",
            "│ transaction ┆ 4629         ┆ 5730         ┆ 8259         │\n",
            "│ addtocart   ┆ 14018        ┆ 12414        ┆ 23157        │\n",
            "└─────────────┴──────────────┴──────────────┴──────────────┘\n",
            "\n",
            "TIME RANGE:\n",
            "Start: 2015-04-25 22:13:20\n",
            "End: 2015-08-19 16:00:00\n",
            "Duration: 115 days\n",
            "\n",
            "PROPERTIES:\n",
            "Unique items: 306,140\n",
            "Property types: 224\n",
            "Avg properties per item: 4.1\n",
            "\n",
            "🔍 Data Quality Checks:\n",
            "-------------------------\n",
            "Items in events: 91,347\n",
            "Items with properties: 306,140\n",
            "Items with categories: 0\n",
            "Coverage: 66.7% events have properties\n",
            "\n",
            "MISSING DATA:\n",
            "Events missing properties: 30,423\n",
            "Properties missing events: 245,216\n",
            "\n",
            "✨ Data cleaning completed successfully!\n",
            "🎯 Ready for machine learning modeling!\n"
          ]
        }
      ],
      "source": [
        "import polars as pl\n",
        "\n",
        "# --- Event stats ---\n",
        "event_stats = (\n",
        "    events\n",
        "    .group_by(\"event\")\n",
        "    .agg([\n",
        "        pl.col(\"visitorid\").n_unique().alias(\"unique_users\"),\n",
        "        pl.col(\"itemid\").n_unique().alias(\"unique_items\"),\n",
        "        pl.count(\"timestamp\").alias(\"total_events\")\n",
        "    ])\n",
        ")\n",
        "print(event_stats)\n",
        "\n",
        "# --- Time range ---\n",
        "start_date = events[\"timestamp\"].min()\n",
        "end_date = events[\"timestamp\"].max()\n",
        "\n",
        "# Already datetime, so no need to cast again\n",
        "print(f\"\\nTIME RANGE:\")\n",
        "print(f\"Start: {start_date}\")\n",
        "print(f\"End: {end_date}\")\n",
        "print(f\"Duration: {(end_date - start_date).days} days\")\n",
        "\n",
        "# --- Properties stats ---\n",
        "unique_items = properties_num[\"itemid\"].n_unique()\n",
        "unique_properties = properties_num[\"property\"].n_unique()\n",
        "avg_props_per_item = properties_num.height / unique_items\n",
        "\n",
        "print(f\"\\nPROPERTIES:\")\n",
        "print(f\"Unique items: {unique_items:,}\")\n",
        "print(f\"Property types: {unique_properties:,}\")\n",
        "print(f\"Avg properties per item: {avg_props_per_item:.1f}\")\n",
        "\n",
        "# --- Data Quality Checks ---\n",
        "print(f\"\\n🔍 Data Quality Checks:\")\n",
        "print(\"-\" * 25)\n",
        "\n",
        "events_items = set(events[\"itemid\"].unique())\n",
        "props_items = set(properties_num[\"itemid\"].unique())\n",
        "cat_items_in_props = set(\n",
        "    properties_num.filter(pl.col(\"property\") == \"categoryid\")[\"itemid\"].unique()\n",
        ")\n",
        "\n",
        "print(f\"Items in events: {len(events_items):,}\")\n",
        "print(f\"Items with properties: {len(props_items):,}\")\n",
        "print(f\"Items with categories: {len(cat_items_in_props):,}\")\n",
        "print(f\"Coverage: {len(events_items & props_items) / len(events_items) * 100:.1f}% events have properties\")\n",
        "\n",
        "# --- Missing data summary ---\n",
        "print(f\"\\nMISSING DATA:\")\n",
        "print(f\"Events missing properties: {len(events_items - props_items):,}\")\n",
        "print(f\"Properties missing events: {len(props_items - events_items):,}\")\n",
        "\n",
        "print(f\"\\n✨ Data cleaning completed successfully!\")\n",
        "print(f\"🎯 Ready for machine learning modeling!\")\n"
      ]
    },
    {
      "cell_type": "markdown",
      "id": "d3f7be4e-8f9f-4f46-840f-e769614e4a20",
      "metadata": {
        "id": "d3f7be4e-8f9f-4f46-840f-e769614e4a20"
      },
      "source": [
        "### TASK 1:  FEATURE ENGINEERING\n",
        "#### User–Item interactions (implicit feedback)"
      ]
    },
    {
      "cell_type": "code",
      "execution_count": 29,
      "id": "ac858793-84b9-4c83-9a53-cd0474753005",
      "metadata": {
        "id": "ac858793-84b9-4c83-9a53-cd0474753005"
      },
      "outputs": [],
      "source": [
        "# Minimum interactions to keep an item/user\n",
        "MIN_ITEM_INTERACTIONS = 5\n",
        "MIN_USER_INTERACTIONS = 5\n"
      ]
    },
    {
      "cell_type": "markdown",
      "source": [
        "### Item content features from numeric properties"
      ],
      "metadata": {
        "id": "-4Z7PNldsZnN"
      },
      "id": "-4Z7PNldsZnN"
    },
    {
      "cell_type": "code",
      "source": [
        "# --- Parameters ---\n",
        "TOP_NUMERIC_PROPS = 20  # pick top-N numeric properties\n",
        "\n",
        "# --- Pick top-N numeric properties by coverage ---\n",
        "prop_cov = (\n",
        "    properties_num.group_by(\"property\")\n",
        "    .agg(pl.count().alias(\"cnt\"))\n",
        "    .sort(\"cnt\", descending=True)\n",
        "    .head(TOP_NUMERIC_PROPS)\n",
        ")\n",
        "\n",
        "# Keep only those properties\n",
        "properties_num_top = properties_num.join(\n",
        "    prop_cov.select(\"property\"),\n",
        "    on=\"property\",\n",
        "    how=\"inner\"\n",
        ")\n",
        "\n",
        "# --- Pivot: itemid x property -> mean(numerical_value) ---\n",
        "item_features_wide = (\n",
        "    properties_num_top\n",
        "    .group_by([\"itemid\", \"property\"])\n",
        "    .agg(pl.col(\"numerical_value\").mean().alias(\"val\"))\n",
        "    .pivot(index=\"itemid\", columns=\"property\", values=\"val\")\n",
        "    .fill_null(0)\n",
        ")\n",
        "\n",
        "# --- Add simple interaction stats (from events) ---\n",
        "item_stats = (\n",
        "    events.group_by(\"itemid\").agg([\n",
        "        pl.count().alias(\"total_interactions\"),\n",
        "        (pl.col(\"event\") == \"view\").sum().alias(\"view_count\"),\n",
        "        pl.col(\"visitorid\").n_unique().alias(\"unique_users\")\n",
        "    ])\n",
        ")\n",
        "\n",
        "# --- Final item features ---\n",
        "item_features = (\n",
        "    item_features_wide.join(item_stats, on=\"itemid\", how=\"left\")\n",
        "    .fill_null(0)\n",
        ")\n",
        "\n",
        "print(\"✅ Item features:\", item_features.shape)\n"
      ],
      "metadata": {
        "id": "s6d_YHZdr_n1",
        "colab": {
          "base_uri": "https://localhost:8080/"
        },
        "outputId": "8c7c8b24-d269-4839-98cc-f045f54c150b"
      },
      "id": "s6d_YHZdr_n1",
      "execution_count": 30,
      "outputs": [
        {
          "output_type": "stream",
          "name": "stdout",
          "text": [
            "✅ Item features: (290652, 24)\n"
          ]
        }
      ]
    },
    {
      "cell_type": "markdown",
      "source": [
        "### Content-Based KNN\n",
        "\n",
        "fit a NearestNeighbors model once and query top-K neighbors on demand."
      ],
      "metadata": {
        "id": "LQr0idoPtika"
      },
      "id": "LQr0idoPtika"
    },
    {
      "cell_type": "code",
      "source": [
        "import polars as pl\n",
        "import numpy as np\n",
        "import scipy.sparse as sp\n",
        "\n",
        "# --- Make sure weights are assigned ---\n",
        "weight_map = {\"view\": 1, \"addtocart\": 3, \"transaction\": 5}\n",
        "events_w = events.with_columns([\n",
        "    pl.when(pl.col(\"event\") == \"view\").then(1)\n",
        "     .when(pl.col(\"event\") == \"addtocart\").then(3)\n",
        "     .when(pl.col(\"event\") == \"transaction\").then(5)\n",
        "     .otherwise(0).alias(\"weight\")\n",
        "])\n",
        "\n",
        "# --- Aggregate user-item weights ---\n",
        "ui = (\n",
        "    events_w.group_by([\"visitorid\",\"itemid\"])\n",
        "    .agg(pl.col(\"weight\").sum().alias(\"w\"))\n",
        ")\n",
        "\n",
        "# --- Filter cold users/items ---\n",
        "MIN_ITEM_INTERACTIONS = 5\n",
        "MIN_USER_INTERACTIONS = 5\n",
        "\n",
        "item_freq = (\n",
        "    ui.group_by(\"itemid\")\n",
        "    .agg(pl.count().alias(\"n\"))\n",
        "    .filter(pl.col(\"n\") >= MIN_ITEM_INTERACTIONS)\n",
        ")\n",
        "user_freq = (\n",
        "    ui.group_by(\"visitorid\")\n",
        "    .agg(pl.count().alias(\"n\"))\n",
        "    .filter(pl.col(\"n\") >= MIN_USER_INTERACTIONS)\n",
        ")\n",
        "\n",
        "ui_clean = (\n",
        "    ui.join(item_freq.select(\"itemid\"), on=\"itemid\", how=\"inner\")\n",
        "      .join(user_freq.select(\"visitorid\"), on=\"visitorid\", how=\"inner\")\n",
        "      .select([\"visitorid\",\"itemid\",\"w\"])\n",
        ")\n",
        "\n",
        "print(\"✅ User–Item pairs:\", ui_clean.shape)\n"
      ],
      "metadata": {
        "id": "TVmOSUS7tBfo",
        "colab": {
          "base_uri": "https://localhost:8080/"
        },
        "outputId": "5044a330-4d1b-4c6e-f7d0-1652e8d5bac7"
      },
      "id": "TVmOSUS7tBfo",
      "execution_count": 31,
      "outputs": [
        {
          "output_type": "stream",
          "name": "stdout",
          "text": [
            "✅ User–Item pairs: (106877, 3)\n"
          ]
        }
      ]
    },
    {
      "cell_type": "code",
      "source": [
        "# --- Items mapping ---\n",
        "items = (\n",
        "    ui_clean.select(\"itemid\").unique()\n",
        "    .with_row_index(\"item_idx\")\n",
        "    .rename({\"itemid\": \"item_id\"})\n",
        ")\n",
        "\n",
        "print(\"✅ Items mapping:\", items.shape)\n",
        "print(items.head())\n"
      ],
      "metadata": {
        "id": "OyuJJmnIuvi2",
        "colab": {
          "base_uri": "https://localhost:8080/"
        },
        "outputId": "0cffae42-46db-44e0-9184-509792b906c0"
      },
      "id": "OyuJJmnIuvi2",
      "execution_count": 32,
      "outputs": [
        {
          "output_type": "stream",
          "name": "stdout",
          "text": [
            "✅ Items mapping: (18132, 2)\n",
            "shape: (5, 2)\n",
            "┌──────────┬─────────┐\n",
            "│ item_idx ┆ item_id │\n",
            "│ ---      ┆ ---     │\n",
            "│ u32      ┆ i64     │\n",
            "╞══════════╪═════════╡\n",
            "│ 0        ┆ 67811   │\n",
            "│ 1        ┆ 464633  │\n",
            "│ 2        ┆ 324573  │\n",
            "│ 3        ┆ 323057  │\n",
            "│ 4        ┆ 286558  │\n",
            "└──────────┴─────────┘\n"
          ]
        }
      ]
    },
    {
      "cell_type": "code",
      "source": [
        "from sklearn.preprocessing import normalize\n",
        "from sklearn.neighbors import NearestNeighbors\n",
        "import numpy as np\n",
        "\n",
        "# --- Rebuild items mapping if missing ---\n",
        "items = (\n",
        "    ui_clean.select(\"itemid\").unique()\n",
        "    .with_row_index(\"item_idx\")   # assign 0..N indices\n",
        "    .rename({\"itemid\": \"item_id\"})  # consistent naming\n",
        ")\n",
        "\n",
        "# --- Ensure item_features also uses item_id ---\n",
        "if \"itemid\" in item_features.columns:\n",
        "    item_features = item_features.rename({\"itemid\": \"item_id\"})\n",
        "\n",
        "# --- Align item_features with items mapping ---\n",
        "feat = (\n",
        "    items.join(item_features, on=\"item_id\", how=\"left\")\n",
        "    .fill_null(0)\n",
        ")\n",
        "\n",
        "# --- Convert to numpy matrix ---\n",
        "item_matrix = feat.drop([\"item_idx\", \"item_id\"]).to_numpy()\n",
        "item_matrix = np.array(item_matrix, dtype=np.float32)  # ✅ enforce dtype\n",
        "\n",
        "# --- Normalize features for cosine similarity ---\n",
        "item_matrix = normalize(item_matrix, norm=\"l2\", axis=1)\n",
        "\n",
        "# --- Fit KNN model ---\n",
        "KNN_NEIGHBORS = 20  # adjust as needed\n",
        "knn = NearestNeighbors(\n",
        "    n_neighbors=KNN_NEIGHBORS,\n",
        "    metric=\"cosine\",\n",
        "    algorithm=\"brute\",\n",
        "    n_jobs=-1\n",
        ")\n",
        "\n",
        "knn.fit(item_matrix)\n",
        "print(\"✅ KNN ready. Item matrix shape:\", item_matrix.shape)\n"
      ],
      "metadata": {
        "id": "-uoLJEx2vI2M",
        "colab": {
          "base_uri": "https://localhost:8080/"
        },
        "outputId": "df09aeb3-a8f7-4746-b122-90291f2c10e3"
      },
      "id": "-uoLJEx2vI2M",
      "execution_count": 33,
      "outputs": [
        {
          "output_type": "stream",
          "name": "stdout",
          "text": [
            "✅ KNN ready. Item matrix shape: (18132, 23)\n"
          ]
        }
      ]
    },
    {
      "cell_type": "code",
      "source": [
        "!pip install implicit\n"
      ],
      "metadata": {
        "colab": {
          "base_uri": "https://localhost:8080/"
        },
        "id": "Yp-BHqRjoXkt",
        "outputId": "4563d23b-744d-4d20-c78e-3b6871721fc1"
      },
      "id": "Yp-BHqRjoXkt",
      "execution_count": 35,
      "outputs": [
        {
          "output_type": "stream",
          "name": "stdout",
          "text": [
            "Collecting implicit\n",
            "  Downloading implicit-0.7.2.tar.gz (70 kB)\n",
            "\u001b[?25l     \u001b[90m━━━━━━━━━━━━━━━━━━━━━━━━━━━━━━━━━━━━━━━━\u001b[0m \u001b[32m0.0/70.3 kB\u001b[0m \u001b[31m?\u001b[0m eta \u001b[36m-:--:--\u001b[0m\r\u001b[2K     \u001b[91m━━━━━━━━━━━━━━━━━━━━━━━━━━━━━━━━━━\u001b[0m\u001b[91m╸\u001b[0m\u001b[90m━━━━━\u001b[0m \u001b[32m61.4/70.3 kB\u001b[0m \u001b[31m1.9 MB/s\u001b[0m eta \u001b[36m0:00:01\u001b[0m\r\u001b[2K     \u001b[90m━━━━━━━━━━━━━━━━━━━━━━━━━━━━━━━━━━━━━━━━\u001b[0m \u001b[32m70.3/70.3 kB\u001b[0m \u001b[31m1.7 MB/s\u001b[0m eta \u001b[36m0:00:00\u001b[0m\n",
            "\u001b[?25h  Installing build dependencies ... \u001b[?25l\u001b[?25hdone\n",
            "  Getting requirements to build wheel ... \u001b[?25l\u001b[?25hdone\n",
            "  Preparing metadata (pyproject.toml) ... \u001b[?25l\u001b[?25hdone\n",
            "Requirement already satisfied: numpy>=1.17.0 in /usr/local/lib/python3.12/dist-packages (from implicit) (2.0.2)\n",
            "Requirement already satisfied: scipy>=0.16 in /usr/local/lib/python3.12/dist-packages (from implicit) (1.16.1)\n",
            "Requirement already satisfied: tqdm>=4.27 in /usr/local/lib/python3.12/dist-packages (from implicit) (4.67.1)\n",
            "Requirement already satisfied: threadpoolctl in /usr/local/lib/python3.12/dist-packages (from implicit) (3.6.0)\n",
            "Building wheels for collected packages: implicit\n",
            "  Building wheel for implicit (pyproject.toml) ... \u001b[?25l\u001b[?25hdone\n",
            "  Created wheel for implicit: filename=implicit-0.7.2-cp312-cp312-linux_x86_64.whl size=10854029 sha256=7bdd94d92f04ecb103031d75cf234b67e44d9ed69c9b9bcfe840866b005bc9f3\n",
            "  Stored in directory: /root/.cache/pip/wheels/b2/00/4f/9ff8af07a0a53ac6007ea5d739da19cfe147a2df542b6899f8\n",
            "Successfully built implicit\n",
            "Installing collected packages: implicit\n",
            "Successfully installed implicit-0.7.2\n"
          ]
        }
      ]
    },
    {
      "cell_type": "code",
      "source": [
        "# --- Clean events ---\n",
        "events = (\n",
        "    events\n",
        "    .unique()\n",
        "    .with_columns([\n",
        "        pl.from_epoch(pl.col(\"timestamp\"), time_unit=\"ms\").alias(\"ts_dt\")  # convert ms → datetime\n",
        "    ])\n",
        "    .drop_nulls()\n",
        ")\n",
        "\n",
        "# Keep only the datetime version, rename it back to 'timestamp'\n",
        "events = events.drop(\"timestamp\").rename({\"ts_dt\": \"timestamp\"})\n",
        "\n",
        "\n",
        "# --- Clean numeric properties ---\n",
        "properties_num = (\n",
        "    properties_num\n",
        "    .with_columns([\n",
        "        pl.from_epoch(pl.col(\"timestamp\"), time_unit=\"ms\").alias(\"ts_dt\")\n",
        "    ])\n",
        "    .drop_nulls()\n",
        "    .drop(\"timestamp\")\n",
        "    .rename({\"ts_dt\": \"timestamp\"})\n",
        ")\n",
        "\n",
        "print(\"✅ Cleaned events:\", events.shape)\n",
        "print(\"✅ Cleaned properties:\", properties_num.shape)\n"
      ],
      "metadata": {
        "colab": {
          "base_uri": "https://localhost:8080/"
        },
        "id": "1ZcrKdZbriI8",
        "outputId": "225068cc-0130-4c84-ecc7-61d80ca70a6b"
      },
      "id": "1ZcrKdZbriI8",
      "execution_count": 37,
      "outputs": [
        {
          "output_type": "stream",
          "name": "stdout",
          "text": [
            "✅ Cleaned events: (406127, 4)\n",
            "✅ Cleaned properties: (1254490, 4)\n"
          ]
        }
      ]
    },
    {
      "cell_type": "code",
      "source": [
        "import polars as pl\n",
        "import numpy as np\n",
        "import scipy.sparse as sp\n",
        "from implicit.als import AlternatingLeastSquares\n",
        "\n",
        "# --- Step 1. Weight events (view=1, addtocart=3, transaction=5) ---\n",
        "events_w\n"
      ],
      "metadata": {
        "id": "GljV6yWYwdTD",
        "colab": {
          "base_uri": "https://localhost:8080/",
          "height": 443
        },
        "outputId": "2e8ba7b3-855b-4fef-9559-822c94269b5e"
      },
      "id": "GljV6yWYwdTD",
      "execution_count": 38,
      "outputs": [
        {
          "output_type": "execute_result",
          "data": {
            "text/plain": [
              "shape: (406_127, 6)\n",
              "┌───────────┬───────┬────────┬─────────────────────┬─────────────────────┬────────┐\n",
              "│ visitorid ┆ event ┆ itemid ┆ ts_dt               ┆ timestamp           ┆ weight │\n",
              "│ ---       ┆ ---   ┆ ---    ┆ ---                 ┆ ---                 ┆ ---    │\n",
              "│ i64       ┆ str   ┆ i64    ┆ datetime[ms]        ┆ datetime[ms]        ┆ i32    │\n",
              "╞═══════════╪═══════╪════════╪═════════════════════╪═════════════════════╪════════╡\n",
              "│ 276382    ┆ view  ┆ 149230 ┆ 2015-08-19 16:00:00 ┆ 2015-08-19 16:00:00 ┆ 1      │\n",
              "│ 754965    ┆ view  ┆ 455804 ┆ 2015-08-19 16:00:00 ┆ 2015-08-19 16:00:00 ┆ 1      │\n",
              "│ 1073622   ┆ view  ┆ 358234 ┆ 2015-08-19 16:00:00 ┆ 2015-08-19 16:00:00 ┆ 1      │\n",
              "│ 11333     ┆ view  ┆ 399195 ┆ 2015-08-19 16:00:00 ┆ 2015-08-19 16:00:00 ┆ 1      │\n",
              "│ 1053927   ┆ view  ┆ 458130 ┆ 2015-04-25 22:13:20 ┆ 2015-04-25 22:13:20 ┆ 1      │\n",
              "│ …         ┆ …     ┆ …      ┆ …                   ┆ …                   ┆ …      │\n",
              "│ 222604    ┆ view  ┆ 89893  ┆ 2015-04-25 22:13:20 ┆ 2015-04-25 22:13:20 ┆ 1      │\n",
              "│ 167704    ┆ view  ┆ 285069 ┆ 2015-08-19 16:00:00 ┆ 2015-08-19 16:00:00 ┆ 1      │\n",
              "│ 932548    ┆ view  ┆ 400804 ┆ 2015-04-25 22:13:20 ┆ 2015-04-25 22:13:20 ┆ 1      │\n",
              "│ 437030    ┆ view  ┆ 262603 ┆ 2015-04-25 22:13:20 ┆ 2015-04-25 22:13:20 ┆ 1      │\n",
              "│ 1302211   ┆ view  ┆ 172894 ┆ 2015-08-19 16:00:00 ┆ 2015-08-19 16:00:00 ┆ 1      │\n",
              "└───────────┴───────┴────────┴─────────────────────┴─────────────────────┴────────┘"
            ],
            "text/html": [
              "<div><style>\n",
              ".dataframe > thead > tr,\n",
              ".dataframe > tbody > tr {\n",
              "  text-align: right;\n",
              "  white-space: pre-wrap;\n",
              "}\n",
              "</style>\n",
              "<small>shape: (406_127, 6)</small><table border=\"1\" class=\"dataframe\"><thead><tr><th>visitorid</th><th>event</th><th>itemid</th><th>ts_dt</th><th>timestamp</th><th>weight</th></tr><tr><td>i64</td><td>str</td><td>i64</td><td>datetime[ms]</td><td>datetime[ms]</td><td>i32</td></tr></thead><tbody><tr><td>276382</td><td>&quot;view&quot;</td><td>149230</td><td>2015-08-19 16:00:00</td><td>2015-08-19 16:00:00</td><td>1</td></tr><tr><td>754965</td><td>&quot;view&quot;</td><td>455804</td><td>2015-08-19 16:00:00</td><td>2015-08-19 16:00:00</td><td>1</td></tr><tr><td>1073622</td><td>&quot;view&quot;</td><td>358234</td><td>2015-08-19 16:00:00</td><td>2015-08-19 16:00:00</td><td>1</td></tr><tr><td>11333</td><td>&quot;view&quot;</td><td>399195</td><td>2015-08-19 16:00:00</td><td>2015-08-19 16:00:00</td><td>1</td></tr><tr><td>1053927</td><td>&quot;view&quot;</td><td>458130</td><td>2015-04-25 22:13:20</td><td>2015-04-25 22:13:20</td><td>1</td></tr><tr><td>&hellip;</td><td>&hellip;</td><td>&hellip;</td><td>&hellip;</td><td>&hellip;</td><td>&hellip;</td></tr><tr><td>222604</td><td>&quot;view&quot;</td><td>89893</td><td>2015-04-25 22:13:20</td><td>2015-04-25 22:13:20</td><td>1</td></tr><tr><td>167704</td><td>&quot;view&quot;</td><td>285069</td><td>2015-08-19 16:00:00</td><td>2015-08-19 16:00:00</td><td>1</td></tr><tr><td>932548</td><td>&quot;view&quot;</td><td>400804</td><td>2015-04-25 22:13:20</td><td>2015-04-25 22:13:20</td><td>1</td></tr><tr><td>437030</td><td>&quot;view&quot;</td><td>262603</td><td>2015-04-25 22:13:20</td><td>2015-04-25 22:13:20</td><td>1</td></tr><tr><td>1302211</td><td>&quot;view&quot;</td><td>172894</td><td>2015-08-19 16:00:00</td><td>2015-08-19 16:00:00</td><td>1</td></tr></tbody></table></div>"
            ]
          },
          "metadata": {},
          "execution_count": 38
        }
      ]
    },
    {
      "cell_type": "code",
      "source": [
        "# --- Rebuild user & item mappings from ui_clean ---\n",
        "users = (\n",
        "    ui_clean.select(\"visitorid\").unique()\n",
        "    .with_row_index(\"user_idx\")\n",
        "    .rename({\"visitorid\": \"user_id\"})\n",
        ")\n",
        "\n",
        "items = (\n",
        "    ui_clean.select(\"itemid\").unique()\n",
        "    .with_row_index(\"item_idx\")\n",
        "    .rename({\"itemid\": \"item_id\"})\n",
        ")\n",
        "\n",
        "print(\"✅ Users:\", users.shape)\n",
        "print(\"✅ Items:\", items.shape)\n",
        "\n",
        "# --- Build helpers ---\n",
        "user_id_to_idx = dict(zip(users[\"user_id\"].to_numpy(), users[\"user_idx\"].to_numpy()))\n",
        "item_idx_to_id = dict(zip(items[\"item_idx\"].to_numpy(), items[\"item_id\"].to_numpy()))\n"
      ],
      "metadata": {
        "id": "pGP1dPZbxriF",
        "colab": {
          "base_uri": "https://localhost:8080/"
        },
        "outputId": "4c2c858f-2149-4009-9568-96fea0088958"
      },
      "id": "pGP1dPZbxriF",
      "execution_count": 40,
      "outputs": [
        {
          "output_type": "stream",
          "name": "stdout",
          "text": [
            "✅ Users: (13282, 2)\n",
            "✅ Items: (18132, 2)\n"
          ]
        }
      ]
    },
    {
      "cell_type": "markdown",
      "source": [
        "### Test try"
      ],
      "metadata": {
        "id": "5nz45PpCx6Mt"
      },
      "id": "5nz45PpCx6Mt"
    },
    {
      "cell_type": "code",
      "source": [
        "# --- Step 1: Weight events ---\n",
        "weight_map = {\"view\": 1, \"addtocart\": 3, \"transaction\": 5}\n",
        "events_w = events.with_columns([\n",
        "    pl.when(pl.col(\"event\")==\"view\").then(1)\n",
        "     .when(pl.col(\"event\")==\"addtocart\").then(3)\n",
        "     .when(pl.col(\"event\")==\"transaction\").then(5)\n",
        "     .otherwise(0).alias(\"weight\")\n",
        "])\n",
        "\n",
        "# --- Step 2: Aggregate user-item interactions ---\n",
        "ui = (\n",
        "    events_w.group_by([\"visitorid\",\"itemid\"])\n",
        "    .agg(pl.col(\"weight\").sum().alias(\"w\"))\n",
        ")\n",
        "\n",
        "# --- Step 3: Filter cold-start users/items ---\n",
        "MIN_ITEM_INTERACTIONS = 5\n",
        "MIN_USER_INTERACTIONS = 5\n",
        "\n",
        "item_freq = ui.group_by(\"itemid\").agg(pl.count().alias(\"n\")).filter(pl.col(\"n\") >= MIN_ITEM_INTERACTIONS)\n",
        "user_freq = ui.group_by(\"visitorid\").agg(pl.count().alias(\"n\")).filter(pl.col(\"n\") >= MIN_USER_INTERACTIONS)\n",
        "\n",
        "ui_clean = (\n",
        "    ui.join(item_freq.select(\"itemid\"), on=\"itemid\", how=\"inner\")\n",
        "      .join(user_freq.select(\"visitorid\"), on=\"visitorid\", how=\"inner\")\n",
        "      .select([\"visitorid\",\"itemid\",\"w\"])\n",
        ")\n",
        "\n",
        "# --- Step 4: Build index mapping ---\n",
        "users = ui_clean.select(\"visitorid\").unique().with_row_index(\"user_idx\").rename({\"visitorid\":\"user_id\"})\n",
        "items = ui_clean.select(\"itemid\").unique().with_row_index(\"item_idx\").rename({\"itemid\":\"item_id\"})\n",
        "\n",
        "ui_idx = (\n",
        "    ui_clean\n",
        "    .join(users.rename({\"user_id\":\"visitorid\"}), on=\"visitorid\", how=\"left\")\n",
        "    .join(items.rename({\"item_id\":\"itemid\"}), on=\"itemid\", how=\"left\")\n",
        "    .select([\"user_idx\",\"item_idx\",\"w\"])\n",
        ")\n",
        "\n",
        "# --- Step 5: Build CSR matrix ---\n",
        "rows = ui_idx[\"user_idx\"].to_numpy()\n",
        "cols = ui_idx[\"item_idx\"].to_numpy()\n",
        "data = ui_idx[\"w\"].cast(pl.Float32).to_numpy()\n",
        "\n",
        "n_users = users.height\n",
        "n_items = items.height\n",
        "\n",
        "UI_csr = sp.csr_matrix((data, (rows, cols)), shape=(n_users, n_items))\n",
        "print(\"✅ CSR shape:\", UI_csr.shape, \"nnz:\", UI_csr.nnz)\n"
      ],
      "metadata": {
        "id": "RfaUrVD7x5P4",
        "colab": {
          "base_uri": "https://localhost:8080/"
        },
        "outputId": "b9a8168b-d8c5-46e9-af66-3d45f333765f"
      },
      "id": "RfaUrVD7x5P4",
      "execution_count": 42,
      "outputs": [
        {
          "output_type": "stream",
          "name": "stdout",
          "text": [
            "✅ CSR shape: (13282, 18132) nnz: 106877\n"
          ]
        }
      ]
    },
    {
      "cell_type": "code",
      "source": [
        "from implicit.als import AlternatingLeastSquares\n",
        "\n",
        "# --- Set a reproducible random seed ---\n",
        "RANDOM_SEED = 42\n",
        "\n",
        "# --- Train ALS ---\n",
        "als = AlternatingLeastSquares(\n",
        "    factors=50,\n",
        "    regularization=0.01,\n",
        "    iterations=15,\n",
        "    random_state=RANDOM_SEED\n",
        ")\n",
        "\n",
        "# implicit expects **item-user matrix**, so we transpose UI_csr\n",
        "als.fit(UI_csr.T)\n",
        "\n",
        "print(\"✅ ALS model trained successfully.\")\n"
      ],
      "metadata": {
        "id": "swo2uoud0AoJ",
        "colab": {
          "base_uri": "https://localhost:8080/",
          "height": 66,
          "referenced_widgets": [
            "b6592ce6f69843d6bcb04d0e8cc0d97d",
            "4d7b02ec1eec4d1e9b5d5037bc26cfcb",
            "48b0a4381cc2448191815ca8e41b5308",
            "76f532a3f09f4fb78efd0eea04e0f7fc",
            "0f7f7a75ebb64ab888d722420d9d1181",
            "5699f63a99c9421788963c63f697e166",
            "2ad4cf641f414bb7b2cc60e030ba2585",
            "69c9ca830cc1467cb1617d07723631cc",
            "b8242b21b3bc4ccf8483c7b6441d893e",
            "8273778f291e4df8a870082f6c819699",
            "ebdfbcbfe98847e2851e4b3c1d26c1ef"
          ]
        },
        "outputId": "1820274c-881d-412b-a3cb-ac55ac7d5f75"
      },
      "id": "swo2uoud0AoJ",
      "execution_count": 44,
      "outputs": [
        {
          "output_type": "display_data",
          "data": {
            "text/plain": [
              "  0%|          | 0/15 [00:00<?, ?it/s]"
            ],
            "application/vnd.jupyter.widget-view+json": {
              "version_major": 2,
              "version_minor": 0,
              "model_id": "b6592ce6f69843d6bcb04d0e8cc0d97d"
            }
          },
          "metadata": {}
        },
        {
          "output_type": "stream",
          "name": "stdout",
          "text": [
            "✅ ALS model trained successfully.\n"
          ]
        }
      ]
    },
    {
      "cell_type": "code",
      "source": [
        "# Only include users present in UI_csr\n",
        "valid_user_ids = users.filter(pl.col(\"user_idx\") < UI_csr.shape[0])[\"user_id\"].to_list()\n",
        "user_id_to_idx = {uid: idx for idx, uid in enumerate(valid_user_ids)}\n"
      ],
      "metadata": {
        "id": "ZvrxRj1V2VHo"
      },
      "id": "ZvrxRj1V2VHo",
      "execution_count": 45,
      "outputs": []
    },
    {
      "cell_type": "code",
      "source": [
        "# Only include users present in UI_csr\n",
        "num_users = UI_csr.shape[0]\n",
        "\n",
        "# Map user IDs to indices 0..num_users-1\n",
        "valid_users = users.filter(pl.col(\"user_idx\") < num_users)[\"user_id\"].to_list()\n",
        "user_id_to_idx = {uid: idx for idx, uid in enumerate(valid_users)}\n",
        "item_idx_to_id = {idx: item for idx, item in enumerate(items)}  # make sure this is correct\n"
      ],
      "metadata": {
        "id": "FeKcVpR53YW0"
      },
      "id": "FeKcVpR53YW0",
      "execution_count": 46,
      "outputs": []
    },
    {
      "cell_type": "code",
      "source": [
        "## Update recommend_cf to safely handle missing users\n",
        "def recommend_cf(user_raw_id, N=10):\n",
        "    # Return empty if user is invalid\n",
        "    if user_raw_id not in user_id_to_idx:\n",
        "        return pl.DataFrame({\"itemid\": [], \"score\": []})\n",
        "\n",
        "    uidx = user_id_to_idx[user_raw_id]\n",
        "\n",
        "    # Ensure uidx is within bounds\n",
        "    if uidx >= UI_csr.shape[0]:\n",
        "        return pl.DataFrame({\"itemid\": [], \"score\": []})\n",
        "\n",
        "    ids, scores = als.recommend(\n",
        "        userid=uidx,\n",
        "        user_items=UI_csr[uidx],\n",
        "        N=N,\n",
        "        filter_already_liked_items=True\n",
        "    )\n",
        "\n",
        "    return pl.DataFrame({\n",
        "        \"itemid\": [item_idx_to_id[i] for i in ids],\n",
        "        \"score\": scores\n",
        "    })\n",
        "\n"
      ],
      "metadata": {
        "id": "qa8oYTFe2ZEv"
      },
      "id": "qa8oYTFe2ZEv",
      "execution_count": 47,
      "outputs": []
    },
    {
      "cell_type": "code",
      "source": [
        "sample_uidx = [uid for uid in valid_user_ids if uid in user_id_to_idx]\n"
      ],
      "metadata": {
        "id": "M2ALcVO-2nm3"
      },
      "id": "M2ALcVO-2nm3",
      "execution_count": 48,
      "outputs": []
    },
    {
      "cell_type": "code",
      "source": [
        "def recall_at_k(model_func, K=10):\n",
        "    hits, total = 0, 0\n",
        "\n",
        "    for raw_uid in sample_uidx:\n",
        "        recs = model_func(raw_uid, N=K)\n",
        "        if recs.is_empty():\n",
        "            continue\n",
        "\n",
        "        uidx = user_id_to_idx[raw_uid]\n",
        "        items_of_u = UI_csr[uidx].indices\n",
        "        if len(items_of_u) < 2:\n",
        "            continue\n",
        "\n",
        "        # hold out one test item\n",
        "        test_item_idx = np.random.choice(items_of_u)\n",
        "        test_raw_item = item_idx_to_id.get(test_item_idx, None)\n",
        "        if test_raw_item is None:\n",
        "            continue  # skip if mapping doesn't exist\n",
        "\n",
        "        rec_item_ids = set(recs[\"itemid\"].to_list())\n",
        "        hits += int(test_raw_item in rec_item_ids)\n",
        "        total += 1\n",
        "\n",
        "    return hits / max(total, 1)\n"
      ],
      "metadata": {
        "id": "OipXuPZ32umk"
      },
      "id": "OipXuPZ32umk",
      "execution_count": 49,
      "outputs": []
    },
    {
      "cell_type": "code",
      "source": [
        "def recall_at_k(model_func, K=10):\n",
        "    hits, total = 0, 0\n",
        "\n",
        "    for raw_uid in sample_uidx:\n",
        "        recs = model_func(raw_uid, N=K)\n",
        "        if recs.is_empty():\n",
        "            continue\n",
        "\n",
        "        uidx = user_id_to_idx[raw_uid]\n",
        "        items_of_u = UI_csr[uidx].indices\n",
        "        if len(items_of_u) < 2:\n",
        "            continue\n",
        "\n",
        "        # hold out one test item\n",
        "        test_item_idx = np.random.choice(items_of_u)\n",
        "        test_raw_item = item_idx_to_id.get(test_item_idx, None)\n",
        "        if test_raw_item is None:\n",
        "            continue  # skip if mapping doesn't exist\n",
        "\n",
        "        rec_item_ids = set(recs[\"itemid\"].to_list())\n",
        "        hits += int(test_raw_item in rec_item_ids)\n",
        "        total += 1\n",
        "\n",
        "    return hits / max(total, 1)\n"
      ],
      "metadata": {
        "id": "T6r0fmok4m1t",
        "colab": {
          "base_uri": "https://localhost:8080/"
        },
        "outputId": "c15e6f41-cdc0-4e0b-d9f0-b346f524dacc"
      },
      "id": "T6r0fmok4m1t",
      "execution_count": 50,
      "outputs": [
        {
          "output_type": "stream",
          "name": "stdout",
          "text": [
            "\n",
            "💾 Saving data tables...\n",
            "✅ Data saved successfully:\n",
            "   Users: 13,282 rows\n",
            "   Items: 18,132 rows\n",
            "   Item features: 290,652 rows\n",
            "   User-item CSR: 13,282 users x 18,132 items\n",
            "💾 Saved to: /content/my_dataset/outputs\n"
          ]
        }
      ]
    },
    {
      "cell_type": "code",
      "source": [
        "# --- Rebuild mappings from final CSR matrix ---\n",
        "n_users, n_items = UI_csr.shape\n",
        "\n",
        "users = (\n",
        "    pl.DataFrame({\"user_id\": np.arange(n_users)})\n",
        "    .with_columns(pl.Series(\"user_id_raw\", list(user_id_to_idx.keys())))\n",
        ")\n",
        "\n",
        "items = (\n",
        "    pl.DataFrame({\"item_idx\": np.arange(n_items)})\n",
        "    .with_columns(pl.Series(\"item_id\", list(item_idx_to_id.values())[:n_items]))\n",
        ")\n",
        "\n",
        "# Fresh mappings\n",
        "user_id_to_idx = dict(zip(users[\"user_id_raw\"], users[\"user_id\"]))\n",
        "item_idx_to_id = dict(zip(items[\"item_idx\"], items[\"item_id\"]))\n"
      ],
      "metadata": {
        "id": "W0P5l3d14fzY"
      },
      "id": "W0P5l3d14fzY",
      "execution_count": 74,
      "outputs": []
    },
    {
      "cell_type": "code",
      "source": [
        "def recommend_cf(user_raw_id, N=10):\n",
        "    if user_raw_id not in user_id_to_idx:\n",
        "        return pl.DataFrame({\"itemid\": [], \"score\": []})\n",
        "\n",
        "    uidx = user_id_to_idx[user_raw_id]\n",
        "\n",
        "    # guard against out-of-bounds\n",
        "    if uidx >= UI_csr.shape[0]:\n",
        "        return pl.DataFrame({\"itemid\": [], \"score\": []})\n",
        "\n",
        "    ids, scores = als.recommend(\n",
        "        userid=uidx,\n",
        "        user_items=UI_csr[uidx],\n",
        "        N=N,\n",
        "        filter_already_liked_items=True\n",
        "    )\n",
        "\n",
        "    # filter to valid item indices\n",
        "    ids = [i for i in ids if i < UI_csr.shape[1]]\n",
        "\n",
        "    return pl.DataFrame({\n",
        "        \"itemid\": [item_idx_to_id[i] for i in ids],\n",
        "        \"score\": scores[:len(ids)]\n",
        "    })\n"
      ],
      "metadata": {
        "id": "JF1GG19V7smN"
      },
      "id": "JF1GG19V7smN",
      "execution_count": 75,
      "outputs": []
    },
    {
      "cell_type": "code",
      "source": [
        "# --- Collaborative Filtering (ALS) ---\n",
        "def recommend_cf(user_raw_id, N=10):\n",
        "    if user_raw_id not in user_id_to_idx:\n",
        "        return pl.DataFrame({\"itemid\": [], \"score\": []})\n",
        "\n",
        "    uidx = user_id_to_idx[user_raw_id]\n",
        "\n",
        "    if uidx >= UI_csr.shape[0]:\n",
        "        return pl.DataFrame({\"itemid\": [], \"score\": []})\n",
        "\n",
        "    ids, scores = als.recommend(\n",
        "        userid=uidx,\n",
        "        user_items=UI_csr[uidx],\n",
        "        N=N,\n",
        "        filter_already_liked_items=True\n",
        "    )\n",
        "\n",
        "    # ✅ Only keep valid indices\n",
        "    valid_ids, valid_scores = [], []\n",
        "    for i, s in zip(ids, scores):\n",
        "        if i < len(item_idx_to_id):\n",
        "            valid_ids.append(item_idx_to_id[i])\n",
        "            valid_scores.append(s)\n",
        "\n",
        "    return pl.DataFrame({\"itemid\": valid_ids, \"score\": valid_scores})\n",
        "\n",
        "def recommend_cf(user_raw_id, N=10):\n",
        "    # check if user exists\n",
        "    if user_raw_id not in user_id_to_idx:\n",
        "        return pl.DataFrame({\"itemid\": [], \"score\": []})\n",
        "\n",
        "    uidx = user_id_to_idx[user_raw_id]\n",
        "\n",
        "    # safety check: make sure index is valid\n",
        "    if uidx >= UI_csr.shape[0]:\n",
        "        return pl.DataFrame({\"itemid\": [], \"score\": []})\n",
        "\n",
        "    ids, scores = als.recommend(uidx, UI_csr[uidx], N=N, recalculate_user=True)\n",
        "\n",
        "    return pl.DataFrame({\n",
        "        \"itemid\": [item_idx_to_id[i] for i in ids],\n",
        "        \"score\": scores\n",
        "    })\n",
        "\n",
        "# --- Evaluation: Recall@K ---\n",
        "def recall_at_k(model_func, K=10):\n",
        "    hits, total = 0, 0\n",
        "\n",
        "    for raw_uid in sample_uidx:\n",
        "        recs = model_func(raw_uid, N=K)\n",
        "        if recs.is_empty():\n",
        "            continue\n",
        "\n",
        "        uidx = user_id_to_idx[raw_uid]\n",
        "        items_of_u = UI_csr[uidx].indices\n",
        "        if len(items_of_u) < 2:\n",
        "            continue\n",
        "\n",
        "        # hold out one test item\n",
        "        test_item_idx = np.random.choice(items_of_u)\n",
        "\n",
        "        # ✅ Skip if index not in mapping\n",
        "        if test_item_idx not in item_idx_to_id:\n",
        "            continue\n",
        "\n",
        "        test_raw_item = item_idx_to_id[test_item_idx]\n",
        "        rec_item_ids = set(recs[\"itemid\"].to_list())\n",
        "\n",
        "        hits += int(test_raw_item in rec_item_ids)\n",
        "        total += 1\n",
        "\n",
        "    return hits / max(total, 1)\n"
      ],
      "metadata": {
        "id": "JSBZd0Yl8B3r"
      },
      "id": "JSBZd0Yl8B3r",
      "execution_count": 81,
      "outputs": []
    },
    {
      "cell_type": "code",
      "source": [
        "import pickle\n",
        "\n",
        "# Save ALS model\n",
        "als_path = os.path.join(out_dir, \"als_model.pkl\")\n",
        "with open(als_path, \"wb\") as f:\n",
        "    pickle.dump(als, f)\n",
        "\n",
        "print(f\"✅ ALS model saved: {als_path}\")\n"
      ],
      "metadata": {
        "colab": {
          "base_uri": "https://localhost:8080/"
        },
        "id": "VJNSNGnattu5",
        "outputId": "9670299b-dd86-4d92-f9bb-5f6ec31ce349"
      },
      "id": "VJNSNGnattu5",
      "execution_count": 51,
      "outputs": [
        {
          "output_type": "stream",
          "name": "stdout",
          "text": [
            "✅ ALS model saved: /content/my_dataset/outputs/als_model.pkl\n"
          ]
        }
      ]
    },
    {
      "cell_type": "code",
      "source": [
        "from google.colab import files\n",
        "\n",
        "# Download CSR matrix\n",
        "files.download(os.path.join(out_dir, \"user_item_csr.npz\"))\n",
        "\n",
        "# Download ALS model\n",
        "files.download(os.path.join(out_dir, \"als_model.pkl\"))\n"
      ],
      "metadata": {
        "colab": {
          "base_uri": "https://localhost:8080/",
          "height": 17
        },
        "id": "rUoBJkbnt0kY",
        "outputId": "19004785-e80d-4d5d-bb44-e71cf6b4aa0a"
      },
      "id": "rUoBJkbnt0kY",
      "execution_count": 52,
      "outputs": [
        {
          "output_type": "display_data",
          "data": {
            "text/plain": [
              "<IPython.core.display.Javascript object>"
            ],
            "application/javascript": [
              "\n",
              "    async function download(id, filename, size) {\n",
              "      if (!google.colab.kernel.accessAllowed) {\n",
              "        return;\n",
              "      }\n",
              "      const div = document.createElement('div');\n",
              "      const label = document.createElement('label');\n",
              "      label.textContent = `Downloading \"${filename}\": `;\n",
              "      div.appendChild(label);\n",
              "      const progress = document.createElement('progress');\n",
              "      progress.max = size;\n",
              "      div.appendChild(progress);\n",
              "      document.body.appendChild(div);\n",
              "\n",
              "      const buffers = [];\n",
              "      let downloaded = 0;\n",
              "\n",
              "      const channel = await google.colab.kernel.comms.open(id);\n",
              "      // Send a message to notify the kernel that we're ready.\n",
              "      channel.send({})\n",
              "\n",
              "      for await (const message of channel.messages) {\n",
              "        // Send a message to notify the kernel that we're ready.\n",
              "        channel.send({})\n",
              "        if (message.buffers) {\n",
              "          for (const buffer of message.buffers) {\n",
              "            buffers.push(buffer);\n",
              "            downloaded += buffer.byteLength;\n",
              "            progress.value = downloaded;\n",
              "          }\n",
              "        }\n",
              "      }\n",
              "      const blob = new Blob(buffers, {type: 'application/binary'});\n",
              "      const a = document.createElement('a');\n",
              "      a.href = window.URL.createObjectURL(blob);\n",
              "      a.download = filename;\n",
              "      div.appendChild(a);\n",
              "      a.click();\n",
              "      div.remove();\n",
              "    }\n",
              "  "
            ]
          },
          "metadata": {}
        },
        {
          "output_type": "display_data",
          "data": {
            "text/plain": [
              "<IPython.core.display.Javascript object>"
            ],
            "application/javascript": [
              "download(\"download_14ddfb70-c821-4945-b5ed-3e44730a9dae\", \"user_item_csr.npz\", 284618)"
            ]
          },
          "metadata": {}
        },
        {
          "output_type": "display_data",
          "data": {
            "text/plain": [
              "<IPython.core.display.Javascript object>"
            ],
            "application/javascript": [
              "\n",
              "    async function download(id, filename, size) {\n",
              "      if (!google.colab.kernel.accessAllowed) {\n",
              "        return;\n",
              "      }\n",
              "      const div = document.createElement('div');\n",
              "      const label = document.createElement('label');\n",
              "      label.textContent = `Downloading \"${filename}\": `;\n",
              "      div.appendChild(label);\n",
              "      const progress = document.createElement('progress');\n",
              "      progress.max = size;\n",
              "      div.appendChild(progress);\n",
              "      document.body.appendChild(div);\n",
              "\n",
              "      const buffers = [];\n",
              "      let downloaded = 0;\n",
              "\n",
              "      const channel = await google.colab.kernel.comms.open(id);\n",
              "      // Send a message to notify the kernel that we're ready.\n",
              "      channel.send({})\n",
              "\n",
              "      for await (const message of channel.messages) {\n",
              "        // Send a message to notify the kernel that we're ready.\n",
              "        channel.send({})\n",
              "        if (message.buffers) {\n",
              "          for (const buffer of message.buffers) {\n",
              "            buffers.push(buffer);\n",
              "            downloaded += buffer.byteLength;\n",
              "            progress.value = downloaded;\n",
              "          }\n",
              "        }\n",
              "      }\n",
              "      const blob = new Blob(buffers, {type: 'application/binary'});\n",
              "      const a = document.createElement('a');\n",
              "      a.href = window.URL.createObjectURL(blob);\n",
              "      a.download = filename;\n",
              "      div.appendChild(a);\n",
              "      a.click();\n",
              "      div.remove();\n",
              "    }\n",
              "  "
            ]
          },
          "metadata": {}
        },
        {
          "output_type": "display_data",
          "data": {
            "text/plain": [
              "<IPython.core.display.Javascript object>"
            ],
            "application/javascript": [
              "download(\"download_12cf9d79-90ec-450e-a0e5-47cd630bed4a\", \"als_model.pkl\", 6283332)"
            ]
          },
          "metadata": {}
        }
      ]
    },
    {
      "cell_type": "code",
      "execution_count": 53,
      "id": "a9d3954a-7ef9-4375-a15b-56f73f913131",
      "metadata": {
        "id": "a9d3954a-7ef9-4375-a15b-56f73f913131"
      },
      "outputs": [],
      "source": [
        "# STEP 2: ITEM FEATURES\n",
        "def process_numerical_values(df: pl.DataFrame) -> pl.DataFrame:\n",
        "    \"\"\"\n",
        "    Keep only 'n'-prefixed values and convert to numerical features\n",
        "    \"\"\"\n",
        "    return (\n",
        "        df.filter(pl.col(\"value\").str.starts_with(\"n\"))  # only numerical props\n",
        "          .with_columns([\n",
        "              pl.col(\"value\").str.slice(1).cast(pl.Float64, strict=False).alias(\"numerical_value\")\n",
        "          ])\n",
        "          .drop(\"value\")\n",
        "    )\n",
        "\n",
        "def create_item_features(props_df: pl.DataFrame, events_df: pl.DataFrame) -> pl.DataFrame:\n",
        "    \"\"\"\n",
        "    Create ML-ready item feature matrix (wide format).\n",
        "    Combines numerical properties + interaction stats.\n",
        "    \"\"\"\n",
        "    # 2a. Pivot numerical properties → wide matrix\n",
        "    num_matrix = (\n",
        "        props_df\n",
        "        .group_by([\"itemid\", \"property\"])\n",
        "        .agg(pl.col(\"numerical_value\").mean())\n",
        "        .pivot(index=\"itemid\", columns=\"property\", values=\"numerical_value\")\n",
        "        .fill_null(0)\n",
        "    )\n",
        "\n",
        "    # 2b. Add interaction features from events\n",
        "    event_feats = (\n",
        "        events_df.group_by(\"itemid\")\n",
        "        .agg([\n",
        "            pl.col(\"visitorid\").n_unique().alias(\"unique_viewers\"),\n",
        "            (pl.col(\"event\") == \"view\").sum().alias(\"view_count\"),\n",
        "            pl.count().alias(\"total_interactions\")\n",
        "        ])\n",
        "    )\n",
        "\n",
        "    # 2c. Join numerical + event features\n",
        "    return num_matrix.join(event_feats, on=\"itemid\", how=\"outer\").fill_null(0)"
      ]
    },
    {
      "cell_type": "code",
      "execution_count": 54,
      "id": "c10747d1-71d2-4cda-ac02-47ee595919ae",
      "metadata": {
        "id": "c10747d1-71d2-4cda-ac02-47ee595919ae"
      },
      "outputs": [],
      "source": [
        "# STEP 3: RECOMMENDATION MODEL\n",
        "\n",
        "def recommend(interactions: pl.DataFrame, item_features: pl.DataFrame, user_id: int):\n",
        "# Compute popularity properly as numeric\n",
        "    top_items = (\n",
        "        interactions.group_by(\"itemid\")\n",
        "        .agg(pl.col(\"interaction_score\").sum().alias(\"popularity\"))\n",
        "        .sort(\"popularity\", descending=True)\n",
        "        .head(10)\n",
        "    )\n",
        "    return top_items\n"
      ]
    },
    {
      "cell_type": "code",
      "execution_count": 56,
      "id": "551d972d-c371-4028-b082-58b6fb9eec9c",
      "metadata": {
        "id": "551d972d-c371-4028-b082-58b6fb9eec9c"
      },
      "outputs": [],
      "source": [
        "import polars as pl\n",
        "import numpy as np\n",
        "import scipy.sparse as sp\n",
        "\n",
        "# --- Step 1. Create user–item matrix ---\n",
        "def create_user_item_matrix(events, min_user_interactions=2, min_item_interactions=2):\n",
        "    # Assign weights (view=1, addtocart=3, transaction=5)\n",
        "    events_w = events.with_columns([\n",
        "        pl.when(pl.col(\"event\") == \"view\").then(1)\n",
        "        .when(pl.col(\"event\") == \"addtocart\").then(3)\n",
        "        .when(pl.col(\"event\") == \"transaction\").then(5)\n",
        "        .otherwise(0).alias(\"weight\")\n",
        "    ])\n",
        "\n",
        "    ui = (\n",
        "        events_w.group_by([\"visitorid\", \"itemid\"])\n",
        "        .agg(pl.col(\"weight\").sum().alias(\"w\"))\n",
        "    )\n",
        "\n",
        "    # Filter cold-start\n",
        "    item_freq = ui.group_by(\"itemid\").agg(pl.count().alias(\"n\")).filter(pl.col(\"n\") >= min_item_interactions)\n",
        "    user_freq = ui.group_by(\"visitorid\").agg(pl.count().alias(\"n\")).filter(pl.col(\"n\") >= min_user_interactions)\n",
        "\n",
        "    ui_clean = (\n",
        "        ui.join(item_freq.select(\"itemid\"), on=\"itemid\", how=\"inner\")\n",
        "          .join(user_freq.select(\"visitorid\"), on=\"visitorid\", how=\"inner\")\n",
        "          .select([\"visitorid\", \"itemid\", \"w\"])\n",
        "    )\n",
        "\n",
        "    # Map to indices\n",
        "    users = ui_clean.select(\"visitorid\").unique().with_row_index(\"user_idx\").rename({\"visitorid\":\"user_id\"})\n",
        "    items = ui_clean.select(\"itemid\").unique().with_row_index(\"item_idx\").rename({\"itemid\":\"item_id\"})\n",
        "\n",
        "    ui_idx = (\n",
        "        ui_clean\n",
        "        .join(users.rename({\"user_id\":\"visitorid\"}), on=\"visitorid\", how=\"left\")\n",
        "        .join(items.rename({\"item_id\":\"itemid\"}), on=\"itemid\", how=\"left\")\n",
        "        .select([\"user_idx\",\"item_idx\",\"w\"])\n",
        "    )\n",
        "\n",
        "    # Build CSR matrix\n",
        "    rows = ui_idx[\"user_idx\"].to_numpy()\n",
        "    cols = ui_idx[\"item_idx\"].to_numpy()\n",
        "    data = ui_idx[\"w\"].cast(pl.Float32).to_numpy()\n",
        "\n",
        "    UI_csr = sp.csr_matrix((data, (rows, cols)), shape=(users.height, items.height))\n",
        "\n",
        "    return {\"matrix\": UI_csr, \"users\": users, \"items\": items}\n",
        "\n",
        "\n",
        "# --- Step 2. Process properties into item features ---\n",
        "def process_numerical_values(properties):\n",
        "    return properties.filter(pl.col(\"value\").cast(pl.Utf8).str.strip_chars().is_numeric()).with_columns([\n",
        "        pl.col(\"value\").cast(pl.Float32).alias(\"numerical_value\")\n",
        "    ])\n",
        "\n",
        "def create_item_features(properties_num, events):\n",
        "    # Example: mean numerical features per item\n",
        "    item_features_wide = (\n",
        "        properties_num.group_by([\"itemid\",\"property\"])\n",
        "        .agg(pl.col(\"numerical_value\").mean().alias(\"val\"))\n",
        "        .pivot(index=\"itemid\", columns=\"property\", values=\"val\")\n",
        "        .fill_null(0)\n",
        "    )\n",
        "\n",
        "    # Add event stats\n",
        "    item_stats = (\n",
        "        events.group_by(\"itemid\").agg([\n",
        "            pl.count().alias(\"total_interactions\"),\n",
        "            (pl.col(\"event\")==\"view\").sum().alias(\"view_count\"),\n",
        "            pl.col(\"visitorid\").n_unique().alias(\"unique_viewers\")\n",
        "        ])\n",
        "    )\n",
        "\n",
        "    return (\n",
        "        item_features_wide.join(item_stats, on=\"itemid\", how=\"left\").fill_null(0)\n",
        "    )\n",
        "\n",
        "\n",
        "# --- Step 3. Simple Top-N recommender ---\n",
        "def recommend(user_item, item_features, sample_user, N=10):\n",
        "    UI_csr = user_item[\"matrix\"]\n",
        "    users = user_item[\"users\"]\n",
        "    items = user_item[\"items\"]\n",
        "\n",
        "    user_map = dict(zip(users[\"user_id\"].to_list(), users[\"user_idx\"].to_list()))\n",
        "    item_map = dict(zip(items[\"item_idx\"].to_list(), items[\"item_id\"].to_list()))\n",
        "\n",
        "    if sample_user not in user_map:\n",
        "        return pl.DataFrame({\"itemid\":[], \"score\":[]})\n",
        "\n",
        "    uidx = user_map[sample_user]\n",
        "    row = UI_csr[uidx].toarray().flatten()\n",
        "    top_items = np.argsort(-row)[:N]\n",
        "\n",
        "    return pl.DataFrame({\n",
        "        \"itemid\": [item_map[i] for i in top_items],\n",
        "        \"score\": row[top_items]\n",
        "    })\n"
      ]
    },
    {
      "cell_type": "code",
      "execution_count": 58,
      "id": "e17dbebd-2420-4541-8a5c-b3c6498c931d",
      "metadata": {
        "id": "e17dbebd-2420-4541-8a5c-b3c6498c931d",
        "colab": {
          "base_uri": "https://localhost:8080/"
        },
        "outputId": "e71f071d-c7dd-4ba9-c60d-4222050ffdb3"
      },
      "outputs": [
        {
          "output_type": "stream",
          "name": "stdout",
          "text": [
            "Original shape: (290652, 23)\n",
            "Cleaned shape : (290652, 23)\n"
          ]
        }
      ],
      "source": [
        "# Ensure the key column is consistent\n",
        "if \"itemid\" in item_features.columns:\n",
        "    key_col = \"itemid\"\n",
        "elif \"item_id\" in item_features.columns:\n",
        "    key_col = \"item_id\"\n",
        "else:\n",
        "    raise ValueError(f\"❌ No item identifier column found in item_features: {item_features.columns}\")\n",
        "\n",
        "# Extract item features safely\n",
        "item_ids = item_features[key_col].to_numpy()\n",
        "item_matrix = item_features.drop(key_col).to_numpy()\n",
        "\n",
        "# Create a mask of valid rows (no NaN, no inf, no very large numbers)\n",
        "valid_mask = (\n",
        "    ~np.isnan(item_matrix).any(axis=1) &\n",
        "    ~np.isinf(item_matrix).any(axis=1) &\n",
        "    (np.abs(item_matrix) < 1e12).all(axis=1)   # optional cap for huge values\n",
        ")\n",
        "\n",
        "# Keep only clean items\n",
        "item_matrix_clean = item_matrix[valid_mask]\n",
        "item_ids_clean = item_ids[valid_mask]\n",
        "\n",
        "print(\"Original shape:\", item_matrix.shape)\n",
        "print(\"Cleaned shape :\", item_matrix_clean.shape)\n"
      ]
    },
    {
      "cell_type": "code",
      "execution_count": 61,
      "id": "0ea13e29-2034-488a-9ebf-608df12affa9",
      "metadata": {
        "id": "0ea13e29-2034-488a-9ebf-608df12affa9"
      },
      "outputs": [],
      "source": [
        "# --- Detect correct item ID column ---\n",
        "if \"itemid\" in item_features_clean.columns:\n",
        "    key_col = \"itemid\"\n",
        "elif \"item_id\" in item_features_clean.columns:\n",
        "    key_col = \"item_id\"\n",
        "else:\n",
        "    raise ValueError(f\"❌ No item identifier column found. Available: {item_features_clean.columns}\")\n",
        "\n",
        "# --- Extract numpy arrays ---\n",
        "item_ids = item_features_clean[key_col].to_numpy()\n",
        "item_matrix = item_features_clean.drop(key_col).to_numpy()\n"
      ]
    },
    {
      "cell_type": "code",
      "source": [
        "import polars as pl\n",
        "\n",
        "# 1. Keep only numerical n-values\n",
        "def process_numerical_values(df: pl.DataFrame) -> pl.DataFrame:\n",
        "    return (\n",
        "        df.filter(pl.col(\"value\").str.starts_with(\"n\"))  # keep only n-values\n",
        "          .with_columns([\n",
        "              pl.col(\"value\").str.slice(1).cast(pl.Float64, strict=False).alias(\"numerical_value\")\n",
        "          ])\n",
        "          .drop(\"value\")  # drop original string column\n",
        "    )\n",
        "\n",
        "properties_numerical = process_numerical_values(properties)\n",
        "\n",
        "# 2. Create item feature matrix (wide format, ML-ready)\n",
        "def create_item_features(props_df: pl.DataFrame, events_df: pl.DataFrame) -> pl.DataFrame:\n",
        "    # Pivot numerical properties → wide matrix\n",
        "    num_matrix = (\n",
        "        props_df\n",
        "        .group_by([\"itemid\", \"property\"])\n",
        "        .agg(pl.col(\"numerical_value\").mean())\n",
        "        .pivot(index=\"itemid\", columns=\"property\", values=\"numerical_value\")\n",
        "        .fill_null(0)\n",
        "    )\n",
        "\n",
        "    # Interaction features from events\n",
        "    event_feats = (\n",
        "        events_df.group_by(\"itemid\")\n",
        "        .agg([\n",
        "            pl.col(\"visitorid\").n_unique().alias(\"unique_viewers\"),\n",
        "            (pl.col(\"event\") == \"view\").sum().alias(\"view_count\"),\n",
        "            pl.count().alias(\"total_interactions\")\n",
        "        ])\n",
        "    )\n",
        "\n",
        "    # Join numerical + event features\n",
        "    return num_matrix.join(event_feats, on=\"itemid\", how=\"outer\").fill_null(0)\n",
        "\n",
        "item_features = create_item_features(properties_numerical, events)\n",
        "\n"
      ],
      "metadata": {
        "id": "bbhbjHCmvy1_"
      },
      "id": "bbhbjHCmvy1_",
      "execution_count": 62,
      "outputs": []
    },
    {
      "cell_type": "code",
      "source": [
        "from google.colab import files\n",
        "import os\n",
        "\n",
        "# Path where you saved earlier\n",
        "data_dir = \"/content/my_dataset/outputs\"\n",
        "\n",
        "# Download files one by one\n",
        "files.download(os.path.join(data_dir, \"users.parquet\"))\n",
        "files.download(os.path.join(data_dir, \"items.parquet\"))\n",
        "files.download(os.path.join(data_dir, \"item_features.parquet\"))\n",
        "files.download(os.path.join(data_dir, \"user_item_csr.npz\"))  # CSR matrix too\n"
      ],
      "metadata": {
        "colab": {
          "base_uri": "https://localhost:8080/",
          "height": 17
        },
        "id": "fPI_OjXUAuuz",
        "outputId": "5e6c0c32-2382-4f1b-c221-7d3dcb71d162"
      },
      "id": "fPI_OjXUAuuz",
      "execution_count": 80,
      "outputs": [
        {
          "output_type": "display_data",
          "data": {
            "text/plain": [
              "<IPython.core.display.Javascript object>"
            ],
            "application/javascript": [
              "\n",
              "    async function download(id, filename, size) {\n",
              "      if (!google.colab.kernel.accessAllowed) {\n",
              "        return;\n",
              "      }\n",
              "      const div = document.createElement('div');\n",
              "      const label = document.createElement('label');\n",
              "      label.textContent = `Downloading \"${filename}\": `;\n",
              "      div.appendChild(label);\n",
              "      const progress = document.createElement('progress');\n",
              "      progress.max = size;\n",
              "      div.appendChild(progress);\n",
              "      document.body.appendChild(div);\n",
              "\n",
              "      const buffers = [];\n",
              "      let downloaded = 0;\n",
              "\n",
              "      const channel = await google.colab.kernel.comms.open(id);\n",
              "      // Send a message to notify the kernel that we're ready.\n",
              "      channel.send({})\n",
              "\n",
              "      for await (const message of channel.messages) {\n",
              "        // Send a message to notify the kernel that we're ready.\n",
              "        channel.send({})\n",
              "        if (message.buffers) {\n",
              "          for (const buffer of message.buffers) {\n",
              "            buffers.push(buffer);\n",
              "            downloaded += buffer.byteLength;\n",
              "            progress.value = downloaded;\n",
              "          }\n",
              "        }\n",
              "      }\n",
              "      const blob = new Blob(buffers, {type: 'application/binary'});\n",
              "      const a = document.createElement('a');\n",
              "      a.href = window.URL.createObjectURL(blob);\n",
              "      a.download = filename;\n",
              "      div.appendChild(a);\n",
              "      a.click();\n",
              "      div.remove();\n",
              "    }\n",
              "  "
            ]
          },
          "metadata": {}
        },
        {
          "output_type": "display_data",
          "data": {
            "text/plain": [
              "<IPython.core.display.Javascript object>"
            ],
            "application/javascript": [
              "download(\"download_66833f3d-2c9d-4b8e-befd-879c890a1b8e\", \"users.parquet\", 76730)"
            ]
          },
          "metadata": {}
        },
        {
          "output_type": "display_data",
          "data": {
            "text/plain": [
              "<IPython.core.display.Javascript object>"
            ],
            "application/javascript": [
              "\n",
              "    async function download(id, filename, size) {\n",
              "      if (!google.colab.kernel.accessAllowed) {\n",
              "        return;\n",
              "      }\n",
              "      const div = document.createElement('div');\n",
              "      const label = document.createElement('label');\n",
              "      label.textContent = `Downloading \"${filename}\": `;\n",
              "      div.appendChild(label);\n",
              "      const progress = document.createElement('progress');\n",
              "      progress.max = size;\n",
              "      div.appendChild(progress);\n",
              "      document.body.appendChild(div);\n",
              "\n",
              "      const buffers = [];\n",
              "      let downloaded = 0;\n",
              "\n",
              "      const channel = await google.colab.kernel.comms.open(id);\n",
              "      // Send a message to notify the kernel that we're ready.\n",
              "      channel.send({})\n",
              "\n",
              "      for await (const message of channel.messages) {\n",
              "        // Send a message to notify the kernel that we're ready.\n",
              "        channel.send({})\n",
              "        if (message.buffers) {\n",
              "          for (const buffer of message.buffers) {\n",
              "            buffers.push(buffer);\n",
              "            downloaded += buffer.byteLength;\n",
              "            progress.value = downloaded;\n",
              "          }\n",
              "        }\n",
              "      }\n",
              "      const blob = new Blob(buffers, {type: 'application/binary'});\n",
              "      const a = document.createElement('a');\n",
              "      a.href = window.URL.createObjectURL(blob);\n",
              "      a.download = filename;\n",
              "      div.appendChild(a);\n",
              "      a.click();\n",
              "      div.remove();\n",
              "    }\n",
              "  "
            ]
          },
          "metadata": {}
        },
        {
          "output_type": "display_data",
          "data": {
            "text/plain": [
              "<IPython.core.display.Javascript object>"
            ],
            "application/javascript": [
              "download(\"download_7440883c-4bd6-4aa6-988c-2712765a138a\", \"items.parquet\", 101983)"
            ]
          },
          "metadata": {}
        },
        {
          "output_type": "display_data",
          "data": {
            "text/plain": [
              "<IPython.core.display.Javascript object>"
            ],
            "application/javascript": [
              "\n",
              "    async function download(id, filename, size) {\n",
              "      if (!google.colab.kernel.accessAllowed) {\n",
              "        return;\n",
              "      }\n",
              "      const div = document.createElement('div');\n",
              "      const label = document.createElement('label');\n",
              "      label.textContent = `Downloading \"${filename}\": `;\n",
              "      div.appendChild(label);\n",
              "      const progress = document.createElement('progress');\n",
              "      progress.max = size;\n",
              "      div.appendChild(progress);\n",
              "      document.body.appendChild(div);\n",
              "\n",
              "      const buffers = [];\n",
              "      let downloaded = 0;\n",
              "\n",
              "      const channel = await google.colab.kernel.comms.open(id);\n",
              "      // Send a message to notify the kernel that we're ready.\n",
              "      channel.send({})\n",
              "\n",
              "      for await (const message of channel.messages) {\n",
              "        // Send a message to notify the kernel that we're ready.\n",
              "        channel.send({})\n",
              "        if (message.buffers) {\n",
              "          for (const buffer of message.buffers) {\n",
              "            buffers.push(buffer);\n",
              "            downloaded += buffer.byteLength;\n",
              "            progress.value = downloaded;\n",
              "          }\n",
              "        }\n",
              "      }\n",
              "      const blob = new Blob(buffers, {type: 'application/binary'});\n",
              "      const a = document.createElement('a');\n",
              "      a.href = window.URL.createObjectURL(blob);\n",
              "      a.download = filename;\n",
              "      div.appendChild(a);\n",
              "      a.click();\n",
              "      div.remove();\n",
              "    }\n",
              "  "
            ]
          },
          "metadata": {}
        },
        {
          "output_type": "display_data",
          "data": {
            "text/plain": [
              "<IPython.core.display.Javascript object>"
            ],
            "application/javascript": [
              "download(\"download_a4c51414-2da8-43eb-9cd3-f4797d0a8505\", \"item_features.parquet\", 2741540)"
            ]
          },
          "metadata": {}
        },
        {
          "output_type": "display_data",
          "data": {
            "text/plain": [
              "<IPython.core.display.Javascript object>"
            ],
            "application/javascript": [
              "\n",
              "    async function download(id, filename, size) {\n",
              "      if (!google.colab.kernel.accessAllowed) {\n",
              "        return;\n",
              "      }\n",
              "      const div = document.createElement('div');\n",
              "      const label = document.createElement('label');\n",
              "      label.textContent = `Downloading \"${filename}\": `;\n",
              "      div.appendChild(label);\n",
              "      const progress = document.createElement('progress');\n",
              "      progress.max = size;\n",
              "      div.appendChild(progress);\n",
              "      document.body.appendChild(div);\n",
              "\n",
              "      const buffers = [];\n",
              "      let downloaded = 0;\n",
              "\n",
              "      const channel = await google.colab.kernel.comms.open(id);\n",
              "      // Send a message to notify the kernel that we're ready.\n",
              "      channel.send({})\n",
              "\n",
              "      for await (const message of channel.messages) {\n",
              "        // Send a message to notify the kernel that we're ready.\n",
              "        channel.send({})\n",
              "        if (message.buffers) {\n",
              "          for (const buffer of message.buffers) {\n",
              "            buffers.push(buffer);\n",
              "            downloaded += buffer.byteLength;\n",
              "            progress.value = downloaded;\n",
              "          }\n",
              "        }\n",
              "      }\n",
              "      const blob = new Blob(buffers, {type: 'application/binary'});\n",
              "      const a = document.createElement('a');\n",
              "      a.href = window.URL.createObjectURL(blob);\n",
              "      a.download = filename;\n",
              "      div.appendChild(a);\n",
              "      a.click();\n",
              "      div.remove();\n",
              "    }\n",
              "  "
            ]
          },
          "metadata": {}
        },
        {
          "output_type": "display_data",
          "data": {
            "text/plain": [
              "<IPython.core.display.Javascript object>"
            ],
            "application/javascript": [
              "download(\"download_ec97622b-5bb7-4a81-a225-6bdf82438e50\", \"user_item_csr.npz\", 284618)"
            ]
          },
          "metadata": {}
        }
      ]
    },
    {
      "cell_type": "code",
      "execution_count": 63,
      "id": "bc5883cd-3bb1-454c-865f-3bc11ad82661",
      "metadata": {
        "id": "bc5883cd-3bb1-454c-865f-3bc11ad82661",
        "colab": {
          "base_uri": "https://localhost:8080/"
        },
        "outputId": "3be92a77-50c4-49cf-c977-3573cbd28e0a"
      },
      "outputs": [
        {
          "output_type": "stream",
          "name": "stdout",
          "text": [
            "shape: (5, 4)\n",
            "┌───────────────┬────────┬──────────┬─────────────────┐\n",
            "│ timestamp     ┆ itemid ┆ property ┆ numerical_value │\n",
            "│ ---           ┆ ---    ┆ ---      ┆ ---             │\n",
            "│ i64           ┆ i64    ┆ str      ┆ f64             │\n",
            "╞═══════════════╪════════╪══════════╪═════════════════╡\n",
            "│ 1439089200000 ┆ 395014 ┆ 400      ┆ null            │\n",
            "│ 1431226800000 ┆ 59481  ┆ 790      ┆ 15360.0         │\n",
            "│ 1435460400000 ┆ 244127 ┆ 400      ┆ null            │\n",
            "│ 1434250800000 ┆ 169055 ┆ 790      ┆ 21000.0         │\n",
            "│ 1435460400000 ┆ 178601 ┆ 790      ┆ 5400.0          │\n",
            "└───────────────┴────────┴──────────┴─────────────────┘\n",
            "shape: (5, 521)\n",
            "┌────────┬──────────┬──────┬─────┬───┬──────────────┬────────────────┬────────────┬────────────────┐\n",
            "│ itemid ┆ 790      ┆ 1097 ┆ 631 ┆ … ┆ itemid_right ┆ unique_viewers ┆ view_count ┆ total_interact │\n",
            "│ ---    ┆ ---      ┆ ---  ┆ --- ┆   ┆ ---          ┆ ---            ┆ ---        ┆ ions           │\n",
            "│ i64    ┆ f64      ┆ f64  ┆ f64 ┆   ┆ i64          ┆ u32            ┆ u32        ┆ ---            │\n",
            "│        ┆          ┆      ┆     ┆   ┆              ┆                ┆            ┆ u32            │\n",
            "╞════════╪══════════╪══════╪═════╪═══╪══════════════╪════════════════╪════════════╪════════════════╡\n",
            "│ 295901 ┆ 6240.0   ┆ 0.0  ┆ 0.0 ┆ … ┆ 0            ┆ 0              ┆ 0          ┆ 0              │\n",
            "│ 237002 ┆ 17280.0  ┆ 0.0  ┆ 0.0 ┆ … ┆ 237002       ┆ 1              ┆ 1          ┆ 1              │\n",
            "│ 252717 ┆ 0.0      ┆ 0.0  ┆ 0.0 ┆ … ┆ 0            ┆ 0              ┆ 0          ┆ 0              │\n",
            "│ 260020 ┆ 0.0      ┆ 0.0  ┆ 0.0 ┆ … ┆ 0            ┆ 0              ┆ 0          ┆ 0              │\n",
            "│ 138476 ┆ 159000.0 ┆ 0.0  ┆ 0.0 ┆ … ┆ 0            ┆ 0              ┆ 0          ┆ 0              │\n",
            "└────────┴──────────┴──────┴─────┴───┴──────────────┴────────────────┴────────────┴────────────────┘\n"
          ]
        }
      ],
      "source": [
        "print(properties_numerical.head())\n",
        "print(item_features.head())\n"
      ]
    },
    {
      "cell_type": "code",
      "source": [
        "print(\"🛠 Creating view_features with categories...\")\n",
        "\n",
        "# --- 1. Basic user activity stats ---\n",
        "user_views = (\n",
        "    events.group_by(\"visitorid\")\n",
        "    .agg([\n",
        "        pl.count().alias(\"view_count\"),\n",
        "        pl.n_unique(\"itemid\").alias(\"unique_items_viewed\"),\n",
        "        # Duration in hours between first and last event\n",
        "        ((pl.max(\"timestamp\") - pl.min(\"timestamp\"))\n",
        "            .dt.total_minutes() / 60).cast(pl.Int64).alias(\"session_length\"),\n",
        "    ])\n",
        ")\n",
        "\n",
        "# --- 2. Map items → categories ---\n",
        "user_categories = (\n",
        "    properties_full.filter(pl.col(\"property\") == \"categoryid\")\n",
        "    .join(events, on=\"itemid\", how=\"inner\")   # add user events\n",
        "    .group_by(\"visitorid\")\n",
        "    .agg([\n",
        "        pl.n_unique(\"value\").alias(\"unique_categories_viewed\"),\n",
        "        (pl.n_unique(\"value\") / pl.count(\"value\")).cast(pl.Float64).alias(\"category_diversity\"),\n",
        "        pl.col(\"value\").mode().alias(\"most_viewed_category\"),\n",
        "    ])\n",
        ")\n",
        "\n",
        "# --- 3. Target property (example: most frequent property per user) ---\n",
        "target_property = (\n",
        "    properties_num.group_by(\"itemid\", \"property\")\n",
        "    .count()\n",
        "    .sort(\"count\", descending=True)\n",
        "    .group_by(\"itemid\")\n",
        "    .agg([pl.first(\"property\").alias(\"target_property\")])\n",
        "    .join(events, on=\"itemid\", how=\"inner\")\n",
        "    .group_by(\"visitorid\")\n",
        "    .agg([pl.first(\"target_property\")])\n",
        ")\n",
        "\n",
        "# --- 4. Combine everything ---\n",
        "view_features = (\n",
        "    user_views\n",
        "    .join(user_categories, on=\"visitorid\", how=\"left\")\n",
        "    .join(target_property, on=\"visitorid\", how=\"left\")\n",
        ")\n",
        "\n",
        "print(f\"✅ view_features created: {view_features.shape}\")\n",
        "print(view_features.head())\n"
      ],
      "metadata": {
        "colab": {
          "base_uri": "https://localhost:8080/"
        },
        "id": "zmTsmWANwMR2",
        "outputId": "534b839d-4a5b-45c1-bf19-7ee772e9bf5a"
      },
      "id": "zmTsmWANwMR2",
      "execution_count": 65,
      "outputs": [
        {
          "output_type": "stream",
          "name": "stdout",
          "text": [
            "🛠 Creating view_features with categories...\n",
            "✅ view_features created: (112161, 8)\n",
            "shape: (5, 8)\n",
            "┌───────────┬────────────┬────────────┬────────────┬───────────┬───────────┬───────────┬───────────┐\n",
            "│ visitorid ┆ view_count ┆ unique_ite ┆ session_le ┆ unique_ca ┆ category_ ┆ most_view ┆ target_pr │\n",
            "│ ---       ┆ ---        ┆ ms_viewed  ┆ ngth       ┆ tegories_ ┆ diversity ┆ ed_catego ┆ operty    │\n",
            "│ i64       ┆ u32        ┆ ---        ┆ ---        ┆ viewed    ┆ ---       ┆ ry        ┆ ---       │\n",
            "│           ┆            ┆ u32        ┆ i64        ┆ ---       ┆ f64       ┆ ---       ┆ str       │\n",
            "│           ┆            ┆            ┆            ┆ u32       ┆           ┆ list[str] ┆           │\n",
            "╞═══════════╪════════════╪════════════╪════════════╪═══════════╪═══════════╪═══════════╪═══════════╡\n",
            "│ 335049    ┆ 2          ┆ 2          ┆ 0          ┆ 1         ┆ 1.0       ┆ [\"959\"]   ┆ 790       │\n",
            "│ 1259179   ┆ 4          ┆ 4          ┆ 0          ┆ 1         ┆ 1.0       ┆ [\"1205\"]  ┆ 917       │\n",
            "│ 1041563   ┆ 5          ┆ 5          ┆ 0          ┆ 1         ┆ 0.2       ┆ [\"1051\"]  ┆ 790       │\n",
            "│ 922959    ┆ 2          ┆ 2          ┆ 0          ┆ 1         ┆ 0.5       ┆ [\"333\"]   ┆ 790       │\n",
            "│ 1362261   ┆ 2          ┆ 2          ┆ 2777       ┆ 2         ┆ 1.0       ┆ [\"1171\",  ┆ 790       │\n",
            "│           ┆            ┆            ┆            ┆           ┆           ┆ \"1477\"]   ┆           │\n",
            "└───────────┴────────────┴────────────┴────────────┴───────────┴───────────┴───────────┴───────────┘\n"
          ]
        }
      ]
    },
    {
      "cell_type": "code",
      "source": [
        "# --- Rebuild item mapping strictly from ui_idx ---\n",
        "items = (\n",
        "    ui_idx.select(\"item_idx\", \"itemid\")\n",
        "    .unique()\n",
        "    .rename({\"itemid\": \"item_id\"})\n",
        "    .sort(\"item_idx\")\n",
        ")\n",
        "\n",
        "users = (\n",
        "    ui_idx.select(\"user_idx\", \"visitorid\")\n",
        "    .unique()\n",
        "    .rename({\"visitorid\": \"user_id\"})\n",
        "    .sort(\"user_idx\")\n",
        ")\n",
        "\n",
        "# --- Rebuild mapping dicts ---\n",
        "user_id_to_idx = dict(zip(users[\"user_id\"].to_numpy(), users[\"user_idx\"].to_numpy()))\n",
        "item_idx_to_id = dict(zip(items[\"item_idx\"].to_numpy(), items[\"item_id\"].to_numpy()))\n",
        "\n",
        "print(f\"✅ Synced mappings: {len(user_id_to_idx)} users, {len(item_idx_to_id)} items\")\n",
        "print(\"CSR shape:\", UI_csr.shape)\n",
        "\n",
        "# --- Try ALS recommendation again ---\n",
        "sample_user = users[\"user_id\"][0]\n",
        "print(f\"\\n▶️ ALS Recommendations for user {sample_user}:\")\n",
        "print(recommend_cf(sample_user, N=10))\n"
      ],
      "metadata": {
        "colab": {
          "base_uri": "https://localhost:8080/",
          "height": 460
        },
        "id": "OfEGn3Mj1fyX",
        "outputId": "fb8b7844-db8e-4e8d-8627-5af7a19a9281"
      },
      "id": "OfEGn3Mj1fyX",
      "execution_count": 72,
      "outputs": [
        {
          "output_type": "error",
          "ename": "ColumnNotFoundError",
          "evalue": "itemid\n\nResolved plan until failure:\n\n\t---> FAILED HERE RESOLVING 'sink' <---\nDF [\"user_idx\", \"item_idx\", \"w\"]; PROJECT */3 COLUMNS",
          "traceback": [
            "\u001b[0;31m---------------------------------------------------------------------------\u001b[0m",
            "\u001b[0;31mColumnNotFoundError\u001b[0m                       Traceback (most recent call last)",
            "\u001b[0;32m/tmp/ipython-input-2986331998.py\u001b[0m in \u001b[0;36m<cell line: 0>\u001b[0;34m()\u001b[0m\n\u001b[1;32m      1\u001b[0m \u001b[0;31m# --- Rebuild item mapping strictly from ui_idx ---\u001b[0m\u001b[0;34m\u001b[0m\u001b[0;34m\u001b[0m\u001b[0m\n\u001b[1;32m      2\u001b[0m items = (\n\u001b[0;32m----> 3\u001b[0;31m     \u001b[0mui_idx\u001b[0m\u001b[0;34m.\u001b[0m\u001b[0mselect\u001b[0m\u001b[0;34m(\u001b[0m\u001b[0;34m\"item_idx\"\u001b[0m\u001b[0;34m,\u001b[0m \u001b[0;34m\"itemid\"\u001b[0m\u001b[0;34m)\u001b[0m\u001b[0;34m\u001b[0m\u001b[0;34m\u001b[0m\u001b[0m\n\u001b[0m\u001b[1;32m      4\u001b[0m     \u001b[0;34m.\u001b[0m\u001b[0munique\u001b[0m\u001b[0;34m(\u001b[0m\u001b[0;34m)\u001b[0m\u001b[0;34m\u001b[0m\u001b[0;34m\u001b[0m\u001b[0m\n\u001b[1;32m      5\u001b[0m     \u001b[0;34m.\u001b[0m\u001b[0mrename\u001b[0m\u001b[0;34m(\u001b[0m\u001b[0;34m{\u001b[0m\u001b[0;34m\"itemid\"\u001b[0m\u001b[0;34m:\u001b[0m \u001b[0;34m\"item_id\"\u001b[0m\u001b[0;34m}\u001b[0m\u001b[0;34m)\u001b[0m\u001b[0;34m\u001b[0m\u001b[0;34m\u001b[0m\u001b[0m\n",
            "\u001b[0;32m/usr/local/lib/python3.12/dist-packages/polars/dataframe/frame.py\u001b[0m in \u001b[0;36mselect\u001b[0;34m(self, *exprs, **named_exprs)\u001b[0m\n\u001b[1;32m   9630\u001b[0m         \u001b[0;31m└\u001b[0m\u001b[0;31m─\u001b[0m\u001b[0;31m─\u001b[0m\u001b[0;31m─\u001b[0m\u001b[0;31m─\u001b[0m\u001b[0;31m─\u001b[0m\u001b[0;31m─\u001b[0m\u001b[0;31m─\u001b[0m\u001b[0;31m─\u001b[0m\u001b[0;31m─\u001b[0m\u001b[0;31m─\u001b[0m\u001b[0;31m─\u001b[0m\u001b[0;31m─\u001b[0m\u001b[0;31m─\u001b[0m\u001b[0;31m─\u001b[0m\u001b[0;31m┘\u001b[0m\u001b[0;34m\u001b[0m\u001b[0;34m\u001b[0m\u001b[0m\n\u001b[1;32m   9631\u001b[0m         \"\"\"\n\u001b[0;32m-> 9632\u001b[0;31m         \u001b[0;32mreturn\u001b[0m \u001b[0mself\u001b[0m\u001b[0;34m.\u001b[0m\u001b[0mlazy\u001b[0m\u001b[0;34m(\u001b[0m\u001b[0;34m)\u001b[0m\u001b[0;34m.\u001b[0m\u001b[0mselect\u001b[0m\u001b[0;34m(\u001b[0m\u001b[0;34m*\u001b[0m\u001b[0mexprs\u001b[0m\u001b[0;34m,\u001b[0m \u001b[0;34m**\u001b[0m\u001b[0mnamed_exprs\u001b[0m\u001b[0;34m)\u001b[0m\u001b[0;34m.\u001b[0m\u001b[0mcollect\u001b[0m\u001b[0;34m(\u001b[0m\u001b[0m_eager\u001b[0m\u001b[0;34m=\u001b[0m\u001b[0;32mTrue\u001b[0m\u001b[0;34m)\u001b[0m\u001b[0;34m\u001b[0m\u001b[0;34m\u001b[0m\u001b[0m\n\u001b[0m\u001b[1;32m   9633\u001b[0m \u001b[0;34m\u001b[0m\u001b[0m\n\u001b[1;32m   9634\u001b[0m     def select_seq(\n",
            "\u001b[0;32m/usr/local/lib/python3.12/dist-packages/polars/_utils/deprecation.py\u001b[0m in \u001b[0;36mwrapper\u001b[0;34m(*args, **kwargs)\u001b[0m\n\u001b[1;32m     86\u001b[0m                 \u001b[0mkwargs\u001b[0m\u001b[0;34m[\u001b[0m\u001b[0;34m\"engine\"\u001b[0m\u001b[0;34m]\u001b[0m \u001b[0;34m=\u001b[0m \u001b[0;34m\"old-streaming\"\u001b[0m\u001b[0;34m\u001b[0m\u001b[0;34m\u001b[0m\u001b[0m\n\u001b[1;32m     87\u001b[0m \u001b[0;34m\u001b[0m\u001b[0m\n\u001b[0;32m---> 88\u001b[0;31m             \u001b[0;32mreturn\u001b[0m \u001b[0mfunction\u001b[0m\u001b[0;34m(\u001b[0m\u001b[0;34m*\u001b[0m\u001b[0margs\u001b[0m\u001b[0;34m,\u001b[0m \u001b[0;34m**\u001b[0m\u001b[0mkwargs\u001b[0m\u001b[0;34m)\u001b[0m\u001b[0;34m\u001b[0m\u001b[0;34m\u001b[0m\u001b[0m\n\u001b[0m\u001b[1;32m     89\u001b[0m \u001b[0;34m\u001b[0m\u001b[0m\n\u001b[1;32m     90\u001b[0m         \u001b[0mwrapper\u001b[0m\u001b[0;34m.\u001b[0m\u001b[0m__signature__\u001b[0m \u001b[0;34m=\u001b[0m \u001b[0minspect\u001b[0m\u001b[0;34m.\u001b[0m\u001b[0msignature\u001b[0m\u001b[0;34m(\u001b[0m\u001b[0mfunction\u001b[0m\u001b[0;34m)\u001b[0m  \u001b[0;31m# type: ignore[attr-defined]\u001b[0m\u001b[0;34m\u001b[0m\u001b[0;34m\u001b[0m\u001b[0m\n",
            "\u001b[0;32m/usr/local/lib/python3.12/dist-packages/polars/lazyframe/frame.py\u001b[0m in \u001b[0;36mcollect\u001b[0;34m(self, type_coercion, _type_check, predicate_pushdown, projection_pushdown, simplify_expression, slice_pushdown, comm_subplan_elim, comm_subexpr_elim, cluster_with_columns, collapse_joins, no_optimization, engine, background, _check_order, _eager, **_kwargs)\u001b[0m\n\u001b[1;32m   2186\u001b[0m         \u001b[0;31m# Only for testing purposes\u001b[0m\u001b[0;34m\u001b[0m\u001b[0;34m\u001b[0m\u001b[0m\n\u001b[1;32m   2187\u001b[0m         \u001b[0mcallback\u001b[0m \u001b[0;34m=\u001b[0m \u001b[0m_kwargs\u001b[0m\u001b[0;34m.\u001b[0m\u001b[0mget\u001b[0m\u001b[0;34m(\u001b[0m\u001b[0;34m\"post_opt_callback\"\u001b[0m\u001b[0;34m,\u001b[0m \u001b[0mcallback\u001b[0m\u001b[0;34m)\u001b[0m\u001b[0;34m\u001b[0m\u001b[0;34m\u001b[0m\u001b[0m\n\u001b[0;32m-> 2188\u001b[0;31m         \u001b[0;32mreturn\u001b[0m \u001b[0mwrap_df\u001b[0m\u001b[0;34m(\u001b[0m\u001b[0mldf\u001b[0m\u001b[0;34m.\u001b[0m\u001b[0mcollect\u001b[0m\u001b[0;34m(\u001b[0m\u001b[0mengine\u001b[0m\u001b[0;34m,\u001b[0m \u001b[0mcallback\u001b[0m\u001b[0;34m)\u001b[0m\u001b[0;34m)\u001b[0m\u001b[0;34m\u001b[0m\u001b[0;34m\u001b[0m\u001b[0m\n\u001b[0m\u001b[1;32m   2189\u001b[0m \u001b[0;34m\u001b[0m\u001b[0m\n\u001b[1;32m   2190\u001b[0m     \u001b[0;34m@\u001b[0m\u001b[0moverload\u001b[0m\u001b[0;34m\u001b[0m\u001b[0;34m\u001b[0m\u001b[0m\n",
            "\u001b[0;31mColumnNotFoundError\u001b[0m: itemid\n\nResolved plan until failure:\n\n\t---> FAILED HERE RESOLVING 'sink' <---\nDF [\"user_idx\", \"item_idx\", \"w\"]; PROJECT */3 COLUMNS"
          ]
        }
      ]
    },
    {
      "cell_type": "code",
      "execution_count": 68,
      "id": "7dd67e15-c49e-4720-a9d3-ad03a41ae6b8",
      "metadata": {
        "id": "7dd67e15-c49e-4720-a9d3-ad03a41ae6b8",
        "colab": {
          "base_uri": "https://localhost:8080/",
          "height": 280
        },
        "outputId": "05ab718f-00e3-43d8-cf0c-1ce5631b2763"
      },
      "outputs": [
        {
          "output_type": "stream",
          "name": "stdout",
          "text": [
            "\n",
            "🔍 TASK 2: Detecting Abnormal Users\n",
            "-----------------------------------\n",
            "🔧 Generating user behavior features with category analysis...\n"
          ]
        },
        {
          "output_type": "error",
          "ename": "NameError",
          "evalue": "name 'item_categories' is not defined",
          "traceback": [
            "\u001b[0;31m---------------------------------------------------------------------------\u001b[0m",
            "\u001b[0;31mNameError\u001b[0m                                 Traceback (most recent call last)",
            "\u001b[0;32m/tmp/ipython-input-1776337663.py\u001b[0m in \u001b[0;36m<cell line: 0>\u001b[0;34m()\u001b[0m\n\u001b[1;32m     59\u001b[0m \u001b[0;31m# Create user features with category analysis\u001b[0m\u001b[0;34m\u001b[0m\u001b[0;34m\u001b[0m\u001b[0m\n\u001b[1;32m     60\u001b[0m \u001b[0mprint\u001b[0m\u001b[0;34m(\u001b[0m\u001b[0;34m\"🔧 Generating user behavior features with category analysis...\"\u001b[0m\u001b[0;34m)\u001b[0m\u001b[0;34m\u001b[0m\u001b[0;34m\u001b[0m\u001b[0m\n\u001b[0;32m---> 61\u001b[0;31m \u001b[0muser_features\u001b[0m \u001b[0;34m=\u001b[0m \u001b[0mgenerate_user_features\u001b[0m\u001b[0;34m(\u001b[0m\u001b[0mevents\u001b[0m\u001b[0;34m,\u001b[0m \u001b[0mitem_categories\u001b[0m\u001b[0;34m,\u001b[0m \u001b[0mcategories\u001b[0m\u001b[0;34m)\u001b[0m\u001b[0;34m\u001b[0m\u001b[0;34m\u001b[0m\u001b[0m\n\u001b[0m\u001b[1;32m     62\u001b[0m \u001b[0mprint\u001b[0m\u001b[0;34m(\u001b[0m\u001b[0;34mf\"✅ Generated features for {len(user_features)} users\"\u001b[0m\u001b[0;34m)\u001b[0m\u001b[0;34m\u001b[0m\u001b[0;34m\u001b[0m\u001b[0m\n\u001b[1;32m     63\u001b[0m \u001b[0;34m\u001b[0m\u001b[0m\n",
            "\u001b[0;31mNameError\u001b[0m: name 'item_categories' is not defined"
          ]
        }
      ],
      "source": [
        "# ========================================\n",
        "# TASK 2: DETECT ABNORMAL USERS\n",
        "# ========================================\n",
        "print(\"\\n🔍 TASK 2: Detecting Abnormal Users\")\n",
        "print(\"-\"*35)\n",
        "\n",
        "# Generate user behavior features with category analysis\n",
        "def generate_user_features(events_df, item_categories_df, categories_df):\n",
        "    events_pd = events_df.to_pandas()\n",
        "    item_cat_pd = item_categories_df.to_pandas()\n",
        "    cat_pd = categories_df.to_pandas()\n",
        "\n",
        "    # Basic user statistics\n",
        "    user_stats = events_pd.groupby('visitorid').agg({\n",
        "        'event': ['count', 'nunique'],\n",
        "        'itemid': 'nunique',\n",
        "        'timestamp': ['min', 'max']\n",
        "    }).reset_index()\n",
        "\n",
        "    # Flatten column names\n",
        "    user_stats.columns = ['visitorid', 'total_events', 'event_types', 'unique_items', 'first_event', 'last_event']\n",
        "\n",
        "    # Calculate session metrics\n",
        "    user_stats['session_length'] = user_stats['last_event'] - user_stats['first_event']\n",
        "    user_stats['events_per_minute'] = user_stats['total_events'] / (user_stats['session_length'] / 60000 + 1)\n",
        "\n",
        "    # Event type ratios\n",
        "    event_ratios = events_pd.groupby(['visitorid', 'event']).size().unstack(fill_value=0)\n",
        "    event_ratios = event_ratios.div(event_ratios.sum(axis=1), axis=0)\n",
        "\n",
        "    # Category behavior analysis\n",
        "    user_categories = []\n",
        "    for visitor in user_stats['visitorid']:\n",
        "        visitor_items = events_pd[events_pd['visitorid'] == visitor]['itemid'].unique()\n",
        "        visitor_cats = item_cat_pd[item_cat_pd['itemid'].isin(visitor_items)]['categoryid'].unique()\n",
        "\n",
        "        category_features = {\n",
        "            'visitorid': visitor,\n",
        "            'unique_categories': len(visitor_cats),\n",
        "            'category_focus': len(visitor_cats) / max(len(visitor_items), 1),  # Low = focused, High = diverse\n",
        "        }\n",
        "\n",
        "        # Check for category jumping behavior (potential bot)\n",
        "        if len(visitor_cats) > 20:  # Many categories might indicate bot\n",
        "            category_features['high_category_diversity'] = 1\n",
        "        else:\n",
        "            category_features['high_category_diversity'] = 0\n",
        "\n",
        "        user_categories.append(category_features)\n",
        "\n",
        "    category_df = pd.DataFrame(user_categories)\n",
        "\n",
        "    # Merge all features\n",
        "    user_features = user_stats.merge(event_ratios, left_on='visitorid', right_index=True, how='left')\n",
        "    user_features = user_features.merge(category_df, on='visitorid', how='left')\n",
        "\n",
        "    return user_features.fillna(0)\n",
        "\n",
        "# Create user features with category analysis\n",
        "print(\"🔧 Generating user behavior features with category analysis...\")\n",
        "user_features = generate_user_features(events, item_categories, categories)\n",
        "print(f\"✅ Generated features for {len(user_features)} users\")\n",
        "\n",
        "# Detect anomalies using Isolation Forest with category features\n",
        "print(\"🤖 Training anomaly detection model with category features...\")\n",
        "feature_cols = ['total_events', 'unique_items', 'events_per_minute', 'view', 'addtocart', 'transaction',\n",
        "               'unique_categories', 'category_focus', 'high_category_diversity']\n",
        "X_anomaly = user_features[feature_cols]\n",
        "\n",
        "# Isolation Forest for anomaly detection\n",
        "iso_forest = IsolationForest(contamination=0.1, random_state=42, n_estimators=50)\n",
        "anomaly_labels = iso_forest.fit_predict(X_anomaly)\n",
        "user_features['is_abnormal'] = (anomaly_labels == -1).astype(int)\n",
        "\n",
        "abnormal_users = user_features[user_features['is_abnormal'] == 1]\n",
        "normal_users = user_features[user_features['is_abnormal'] == 0]\n",
        "\n",
        "print(f\"✅ Task 2 Results:\")\n",
        "print(f\"   Normal users: {len(normal_users):,} ({len(normal_users)/len(user_features)*100:.1f}%)\")\n",
        "print(f\"   Abnormal users: {len(abnormal_users):,} ({len(abnormal_users)/len(user_features)*100:.1f}%)\")\n",
        "\n",
        "# Model evaluation using manual labeling heuristics\n",
        "def create_ground_truth_labels(df):\n",
        "    \"\"\"Create ground truth using business rules including category behavior\"\"\"\n",
        "    labels = []\n",
        "    for _, row in df.iterrows():\n",
        "        # Heuristic rules for abnormal behavior including category patterns\n",
        "        is_abnormal = (\n",
        "            row['events_per_minute'] > 10 or  # Too many events per minute\n",
        "            row['total_events'] > 1000 or     # Too many total events\n",
        "            (row['transaction'] > 0.5 and row['view'] < 0.1) or  # High purchase, low view ratio\n",
        "            row['unique_items'] < 2 and row['total_events'] > 50 or  # Few items but many events\n",
        "            row['high_category_diversity'] == 1 or  # Very high category diversity (bot-like)\n",
        "            (row['unique_categories'] > 50 and row['category_focus'] > 0.8)  # Too many categories\n",
        "        )\n",
        "        labels.append(1 if is_abnormal else 0)\n",
        "    return labels\n",
        "\n",
        "# Evaluate anomaly detection\n",
        "gt_labels = create_ground_truth_labels(user_features)\n",
        "detected_labels = user_features['is_abnormal'].values\n",
        "\n",
        "# Calculate metrics\n",
        "from sklearn.metrics import precision_score, recall_score, f1_score\n",
        "precision = precision_score(gt_labels, detected_labels)\n",
        "recall = recall_score(gt_labels, detected_labels)\n",
        "f1 = f1_score(gt_labels, detected_labels)\n",
        "\n",
        "print(f\"   Precision: {precision:.3f}\")\n",
        "print(f\"   Recall: {recall:.3f}\")\n",
        "print(f\"   F1-Score: {f1:.3f}\")\n"
      ]
    },
    {
      "cell_type": "code",
      "execution_count": null,
      "id": "29e61e10-a010-4b0c-b430-d2150134628c",
      "metadata": {
        "id": "29e61e10-a010-4b0c-b430-d2150134628c"
      },
      "outputs": [],
      "source": [
        "\n",
        "\n",
        "# ========================================\n",
        "# VISUALIZATION & RESULTS\n",
        "# ========================================\n",
        "print(\"\\n📊 Generating visualizations...\")\n",
        "\n",
        "fig, axes = plt.subplots(2, 2, figsize=(15, 10))\n",
        "fig.suptitle('Recommendation System Analysis Results', fontsize=16, fontweight='bold')\n",
        "\n",
        "# Plot 1: Property prediction feature importance\n",
        "feature_importance = pd.DataFrame({\n",
        "    'feature': feature_cols,\n",
        "    'importance': rf_model.feature_importances_\n",
        "}).sort_values('importance', ascending=True)\n",
        "\n",
        "axes[0,0].barh(feature_importance['feature'], feature_importance['importance'])\n",
        "axes[0,0].set_title('Task 1: Feature Importance for Property Prediction')\n",
        "axes[0,0].set_xlabel('Importance')\n",
        "\n",
        "# Plot 2: User behavior distribution\n",
        "axes[0,1].scatter(user_features['total_events'], user_features['events_per_minute'],\n",
        "                 c=user_features['is_abnormal'], cmap='coolwarm', alpha=0.6)\n",
        "axes[0,1].set_title('Task 2: Normal vs Abnormal Users')\n",
        "axes[0,1].set_xlabel('Total Events')\n",
        "axes[0,1].set_ylabel('Events per Minute')\n",
        "axes[0,1].set_yscale('log')\n",
        "\n",
        "# Plot 3: Abnormal user characteristics\n",
        "abnormal_stats = abnormal_users[['total_events', 'events_per_minute', 'unique_items']].mean()\n",
        "normal_stats = normal_users[['total_events', 'events_per_minute', 'unique_items']].mean()\n",
        "\n",
        "comparison = pd.DataFrame({\n",
        "    'Normal': normal_stats,\n",
        "    'Abnormal': abnormal_stats\n",
        "})\n",
        "\n",
        "comparison.plot(kind='bar', ax=axes[1,0])\n",
        "axes[1,0].set_title('Normal vs Abnormal User Characteristics')\n",
        "axes[1,0].set_ylabel('Average Value')\n",
        "axes[1,0].tick_params(axis='x', rotation=45)\n",
        "\n",
        "# Plot 4: Event type distribution by user type\n",
        "event_dist = user_features.groupby('is_abnormal')[['view', 'addtocart', 'transaction']].mean()\n",
        "event_dist.T.plot(kind='bar', ax=axes[1,1])\n",
        "axes[1,1].set_title('Event Type Distribution by User Type')\n",
        "axes[1,1].set_ylabel('Average Ratio')\n",
        "axes[1,1].tick_params(axis='x', rotation=45)\n",
        "axes[1,1].legend(['Normal', 'Abnormal'])\n",
        "\n",
        "plt.tight_layout()\n",
        "plt.show()\n",
        "\n",
        "# ========================================\n",
        "# FINAL SUMMARY\n",
        "# ========================================\n",
        "print(\"\\n🎉 FINAL RESULTS SUMMARY\")\n",
        "print(\"=\"*40)\n",
        "print(f\"📋 TASK 1 - Property Prediction:\")\n",
        "print(f\"   ✓ Trained model on {len(view_features)} user sessions\")\n",
        "print(f\"   ✓ Accuracy: {accuracy:.1%}\")\n",
        "print(f\"   ✓ Can predict {len(le.classes_)} property types\")\n",
        "\n",
        "print(f\"\\n🚨 TASK 2 - Abnormal User Detection:\")\n",
        "print(f\"   ✓ Analyzed {len(user_features):,} users\")\n",
        "print(f\"   ✓ Detected {len(abnormal_users):,} abnormal users ({len(abnormal_users)/len(user_features)*100:.1f}%)\")\n",
        "print(f\"   ✓ Model Performance: F1={f1:.3f}, Precision={precision:.3f}, Recall={recall:.3f}\")\n",
        "\n",
        "print(f\"\\n💡 Key Insights:\")\n",
        "print(f\"   • Abnormal users have {abnormal_users['events_per_minute'].mean():.1f}x higher activity rate\")\n",
        "print(f\"   • Normal users view {normal_users['unique_items'].mean():.0f} items on average\")\n",
        "print(f\"   • Abnormal users browse {abnormal_users['unique_categories'].mean():.0f} categories vs {normal_users['unique_categories'].mean():.0f} for normal users\")\n",
        "print(f\"   • {(abnormal_users['transaction'].mean() / normal_users['transaction'].mean()):.1f}x higher purchase rate in abnormal users\")\n",
        "print(f\"   • Category diversity helps identify {(user_features['high_category_diversity']==1).sum()} potential bots\")\n",
        "\n",
        "print(f\"\\n✅ Both tasks completed successfully!\")\n",
        "print(f\"   Ready for production deployment 🚀\")"
      ]
    },
    {
      "cell_type": "code",
      "execution_count": null,
      "id": "e243be7e-78ac-4a19-8f03-75205747ad8c",
      "metadata": {
        "id": "e243be7e-78ac-4a19-8f03-75205747ad8c"
      },
      "outputs": [],
      "source": []
    }
  ],
  "metadata": {
    "kernelspec": {
      "display_name": "Python [conda env:base] *",
      "language": "python",
      "name": "conda-base-py"
    },
    "language_info": {
      "codemirror_mode": {
        "name": "ipython",
        "version": 3
      },
      "file_extension": ".py",
      "mimetype": "text/x-python",
      "name": "python",
      "nbconvert_exporter": "python",
      "pygments_lexer": "ipython3",
      "version": "3.13.5"
    },
    "colab": {
      "provenance": []
    },
    "widgets": {
      "application/vnd.jupyter.widget-state+json": {
        "b6592ce6f69843d6bcb04d0e8cc0d97d": {
          "model_module": "@jupyter-widgets/controls",
          "model_name": "HBoxModel",
          "model_module_version": "1.5.0",
          "state": {
            "_dom_classes": [],
            "_model_module": "@jupyter-widgets/controls",
            "_model_module_version": "1.5.0",
            "_model_name": "HBoxModel",
            "_view_count": null,
            "_view_module": "@jupyter-widgets/controls",
            "_view_module_version": "1.5.0",
            "_view_name": "HBoxView",
            "box_style": "",
            "children": [
              "IPY_MODEL_4d7b02ec1eec4d1e9b5d5037bc26cfcb",
              "IPY_MODEL_48b0a4381cc2448191815ca8e41b5308",
              "IPY_MODEL_76f532a3f09f4fb78efd0eea04e0f7fc"
            ],
            "layout": "IPY_MODEL_0f7f7a75ebb64ab888d722420d9d1181"
          }
        },
        "4d7b02ec1eec4d1e9b5d5037bc26cfcb": {
          "model_module": "@jupyter-widgets/controls",
          "model_name": "HTMLModel",
          "model_module_version": "1.5.0",
          "state": {
            "_dom_classes": [],
            "_model_module": "@jupyter-widgets/controls",
            "_model_module_version": "1.5.0",
            "_model_name": "HTMLModel",
            "_view_count": null,
            "_view_module": "@jupyter-widgets/controls",
            "_view_module_version": "1.5.0",
            "_view_name": "HTMLView",
            "description": "",
            "description_tooltip": null,
            "layout": "IPY_MODEL_5699f63a99c9421788963c63f697e166",
            "placeholder": "​",
            "style": "IPY_MODEL_2ad4cf641f414bb7b2cc60e030ba2585",
            "value": "100%"
          }
        },
        "48b0a4381cc2448191815ca8e41b5308": {
          "model_module": "@jupyter-widgets/controls",
          "model_name": "FloatProgressModel",
          "model_module_version": "1.5.0",
          "state": {
            "_dom_classes": [],
            "_model_module": "@jupyter-widgets/controls",
            "_model_module_version": "1.5.0",
            "_model_name": "FloatProgressModel",
            "_view_count": null,
            "_view_module": "@jupyter-widgets/controls",
            "_view_module_version": "1.5.0",
            "_view_name": "ProgressView",
            "bar_style": "success",
            "description": "",
            "description_tooltip": null,
            "layout": "IPY_MODEL_69c9ca830cc1467cb1617d07723631cc",
            "max": 15,
            "min": 0,
            "orientation": "horizontal",
            "style": "IPY_MODEL_b8242b21b3bc4ccf8483c7b6441d893e",
            "value": 15
          }
        },
        "76f532a3f09f4fb78efd0eea04e0f7fc": {
          "model_module": "@jupyter-widgets/controls",
          "model_name": "HTMLModel",
          "model_module_version": "1.5.0",
          "state": {
            "_dom_classes": [],
            "_model_module": "@jupyter-widgets/controls",
            "_model_module_version": "1.5.0",
            "_model_name": "HTMLModel",
            "_view_count": null,
            "_view_module": "@jupyter-widgets/controls",
            "_view_module_version": "1.5.0",
            "_view_name": "HTMLView",
            "description": "",
            "description_tooltip": null,
            "layout": "IPY_MODEL_8273778f291e4df8a870082f6c819699",
            "placeholder": "​",
            "style": "IPY_MODEL_ebdfbcbfe98847e2851e4b3c1d26c1ef",
            "value": " 15/15 [00:05&lt;00:00,  3.97it/s]"
          }
        },
        "0f7f7a75ebb64ab888d722420d9d1181": {
          "model_module": "@jupyter-widgets/base",
          "model_name": "LayoutModel",
          "model_module_version": "1.2.0",
          "state": {
            "_model_module": "@jupyter-widgets/base",
            "_model_module_version": "1.2.0",
            "_model_name": "LayoutModel",
            "_view_count": null,
            "_view_module": "@jupyter-widgets/base",
            "_view_module_version": "1.2.0",
            "_view_name": "LayoutView",
            "align_content": null,
            "align_items": null,
            "align_self": null,
            "border": null,
            "bottom": null,
            "display": null,
            "flex": null,
            "flex_flow": null,
            "grid_area": null,
            "grid_auto_columns": null,
            "grid_auto_flow": null,
            "grid_auto_rows": null,
            "grid_column": null,
            "grid_gap": null,
            "grid_row": null,
            "grid_template_areas": null,
            "grid_template_columns": null,
            "grid_template_rows": null,
            "height": null,
            "justify_content": null,
            "justify_items": null,
            "left": null,
            "margin": null,
            "max_height": null,
            "max_width": null,
            "min_height": null,
            "min_width": null,
            "object_fit": null,
            "object_position": null,
            "order": null,
            "overflow": null,
            "overflow_x": null,
            "overflow_y": null,
            "padding": null,
            "right": null,
            "top": null,
            "visibility": null,
            "width": null
          }
        },
        "5699f63a99c9421788963c63f697e166": {
          "model_module": "@jupyter-widgets/base",
          "model_name": "LayoutModel",
          "model_module_version": "1.2.0",
          "state": {
            "_model_module": "@jupyter-widgets/base",
            "_model_module_version": "1.2.0",
            "_model_name": "LayoutModel",
            "_view_count": null,
            "_view_module": "@jupyter-widgets/base",
            "_view_module_version": "1.2.0",
            "_view_name": "LayoutView",
            "align_content": null,
            "align_items": null,
            "align_self": null,
            "border": null,
            "bottom": null,
            "display": null,
            "flex": null,
            "flex_flow": null,
            "grid_area": null,
            "grid_auto_columns": null,
            "grid_auto_flow": null,
            "grid_auto_rows": null,
            "grid_column": null,
            "grid_gap": null,
            "grid_row": null,
            "grid_template_areas": null,
            "grid_template_columns": null,
            "grid_template_rows": null,
            "height": null,
            "justify_content": null,
            "justify_items": null,
            "left": null,
            "margin": null,
            "max_height": null,
            "max_width": null,
            "min_height": null,
            "min_width": null,
            "object_fit": null,
            "object_position": null,
            "order": null,
            "overflow": null,
            "overflow_x": null,
            "overflow_y": null,
            "padding": null,
            "right": null,
            "top": null,
            "visibility": null,
            "width": null
          }
        },
        "2ad4cf641f414bb7b2cc60e030ba2585": {
          "model_module": "@jupyter-widgets/controls",
          "model_name": "DescriptionStyleModel",
          "model_module_version": "1.5.0",
          "state": {
            "_model_module": "@jupyter-widgets/controls",
            "_model_module_version": "1.5.0",
            "_model_name": "DescriptionStyleModel",
            "_view_count": null,
            "_view_module": "@jupyter-widgets/base",
            "_view_module_version": "1.2.0",
            "_view_name": "StyleView",
            "description_width": ""
          }
        },
        "69c9ca830cc1467cb1617d07723631cc": {
          "model_module": "@jupyter-widgets/base",
          "model_name": "LayoutModel",
          "model_module_version": "1.2.0",
          "state": {
            "_model_module": "@jupyter-widgets/base",
            "_model_module_version": "1.2.0",
            "_model_name": "LayoutModel",
            "_view_count": null,
            "_view_module": "@jupyter-widgets/base",
            "_view_module_version": "1.2.0",
            "_view_name": "LayoutView",
            "align_content": null,
            "align_items": null,
            "align_self": null,
            "border": null,
            "bottom": null,
            "display": null,
            "flex": null,
            "flex_flow": null,
            "grid_area": null,
            "grid_auto_columns": null,
            "grid_auto_flow": null,
            "grid_auto_rows": null,
            "grid_column": null,
            "grid_gap": null,
            "grid_row": null,
            "grid_template_areas": null,
            "grid_template_columns": null,
            "grid_template_rows": null,
            "height": null,
            "justify_content": null,
            "justify_items": null,
            "left": null,
            "margin": null,
            "max_height": null,
            "max_width": null,
            "min_height": null,
            "min_width": null,
            "object_fit": null,
            "object_position": null,
            "order": null,
            "overflow": null,
            "overflow_x": null,
            "overflow_y": null,
            "padding": null,
            "right": null,
            "top": null,
            "visibility": null,
            "width": null
          }
        },
        "b8242b21b3bc4ccf8483c7b6441d893e": {
          "model_module": "@jupyter-widgets/controls",
          "model_name": "ProgressStyleModel",
          "model_module_version": "1.5.0",
          "state": {
            "_model_module": "@jupyter-widgets/controls",
            "_model_module_version": "1.5.0",
            "_model_name": "ProgressStyleModel",
            "_view_count": null,
            "_view_module": "@jupyter-widgets/base",
            "_view_module_version": "1.2.0",
            "_view_name": "StyleView",
            "bar_color": null,
            "description_width": ""
          }
        },
        "8273778f291e4df8a870082f6c819699": {
          "model_module": "@jupyter-widgets/base",
          "model_name": "LayoutModel",
          "model_module_version": "1.2.0",
          "state": {
            "_model_module": "@jupyter-widgets/base",
            "_model_module_version": "1.2.0",
            "_model_name": "LayoutModel",
            "_view_count": null,
            "_view_module": "@jupyter-widgets/base",
            "_view_module_version": "1.2.0",
            "_view_name": "LayoutView",
            "align_content": null,
            "align_items": null,
            "align_self": null,
            "border": null,
            "bottom": null,
            "display": null,
            "flex": null,
            "flex_flow": null,
            "grid_area": null,
            "grid_auto_columns": null,
            "grid_auto_flow": null,
            "grid_auto_rows": null,
            "grid_column": null,
            "grid_gap": null,
            "grid_row": null,
            "grid_template_areas": null,
            "grid_template_columns": null,
            "grid_template_rows": null,
            "height": null,
            "justify_content": null,
            "justify_items": null,
            "left": null,
            "margin": null,
            "max_height": null,
            "max_width": null,
            "min_height": null,
            "min_width": null,
            "object_fit": null,
            "object_position": null,
            "order": null,
            "overflow": null,
            "overflow_x": null,
            "overflow_y": null,
            "padding": null,
            "right": null,
            "top": null,
            "visibility": null,
            "width": null
          }
        },
        "ebdfbcbfe98847e2851e4b3c1d26c1ef": {
          "model_module": "@jupyter-widgets/controls",
          "model_name": "DescriptionStyleModel",
          "model_module_version": "1.5.0",
          "state": {
            "_model_module": "@jupyter-widgets/controls",
            "_model_module_version": "1.5.0",
            "_model_name": "DescriptionStyleModel",
            "_view_count": null,
            "_view_module": "@jupyter-widgets/base",
            "_view_module_version": "1.2.0",
            "_view_name": "StyleView",
            "description_width": ""
          }
        }
      }
    }
  },
  "nbformat": 4,
  "nbformat_minor": 5
}